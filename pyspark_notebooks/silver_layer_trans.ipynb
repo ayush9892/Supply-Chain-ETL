{
 "cells": [
  {
   "cell_type": "code",
   "execution_count": 0,
   "metadata": {
    "application/vnd.databricks.v1+cell": {
     "cellMetadata": {
      "byteLimit": 2048000,
      "rowLimit": 10000
     },
     "inputWidgets": {},
     "nuid": "3effe741-6196-43ab-9078-c42ca836be21",
     "showTitle": false,
     "title": ""
    }
   },
   "outputs": [],
   "source": [
    "%run \"./includes/configuration\""
   ]
  },
  {
   "cell_type": "code",
   "execution_count": 0,
   "metadata": {
    "application/vnd.databricks.v1+cell": {
     "cellMetadata": {
      "byteLimit": 2048000,
      "rowLimit": 10000
     },
     "inputWidgets": {},
     "nuid": "0c0bfc35-3f24-46b2-b1b0-2be78928a62f",
     "showTitle": false,
     "title": ""
    }
   },
   "outputs": [],
   "source": [
    "from pyspark.sql.functions import when, col"
   ]
  },
  {
   "cell_type": "markdown",
   "metadata": {
    "application/vnd.databricks.v1+cell": {
     "cellMetadata": {
      "byteLimit": 2048000,
      "rowLimit": 10000
     },
     "inputWidgets": {},
     "nuid": "21db391b-9b24-4977-92da-18fbf854ca2d",
     "showTitle": false,
     "title": ""
    }
   },
   "source": [
    "#### Get file name"
   ]
  },
  {
   "cell_type": "code",
   "execution_count": 0,
   "metadata": {
    "application/vnd.databricks.v1+cell": {
     "cellMetadata": {
      "byteLimit": 2048000,
      "rowLimit": 10000
     },
     "inputWidgets": {},
     "nuid": "a35893ec-b3f7-41f7-9510-b8524a07f22b",
     "showTitle": false,
     "title": ""
    }
   },
   "outputs": [],
   "source": [
    "source_object_name = dbutils.widgets.get('Source_Object_Name')\n",
    "load_type = dbutils.widgets.get('Load_Type')\n",
    "incre_folder_name = dbutils.widgets.get('Incre_Folder_Name')"
   ]
  },
  {
   "cell_type": "markdown",
   "metadata": {
    "application/vnd.databricks.v1+cell": {
     "cellMetadata": {
      "byteLimit": 2048000,
      "rowLimit": 10000
     },
     "inputWidgets": {},
     "nuid": "db4cb8d5-6480-4708-aa81-7fad24d37095",
     "showTitle": false,
     "title": ""
    }
   },
   "source": [
    "#### Read bronze delta file"
   ]
  },
  {
   "cell_type": "code",
   "execution_count": 0,
   "metadata": {
    "application/vnd.databricks.v1+cell": {
     "cellMetadata": {
      "byteLimit": 2048000,
      "rowLimit": 10000
     },
     "inputWidgets": {},
     "nuid": "b040d2ec-46ce-4ffe-8168-9679deee7afd",
     "showTitle": false,
     "title": ""
    }
   },
   "outputs": [],
   "source": [
    "if load_type == 'full_load':\n",
    "    df = spark.read.format('delta').load(f'{bronze_folder_path}/{source_object_name}')\n",
    "elif load_type == 'incremental':\n",
    "    df = spark.read.format('delta').load(f'{bronze_folder_path}/{source_object_name}/{incre_folder_name}')"
   ]
  },
  {
   "cell_type": "code",
   "execution_count": 0,
   "metadata": {
    "application/vnd.databricks.v1+cell": {
     "cellMetadata": {
      "byteLimit": 2048000,
      "rowLimit": 10000
     },
     "inputWidgets": {},
     "nuid": "a6188852-a08f-4f1e-a125-fca7a6774561",
     "showTitle": false,
     "title": ""
    }
   },
   "outputs": [
    {
     "output_type": "display_data",
     "data": {
      "text/html": [
       "<style scoped>\n",
       "  .table-result-container {\n",
       "    max-height: 300px;\n",
       "    overflow: auto;\n",
       "  }\n",
       "  table, th, td {\n",
       "    border: 1px solid black;\n",
       "    border-collapse: collapse;\n",
       "  }\n",
       "  th, td {\n",
       "    padding: 5px;\n",
       "  }\n",
       "  th {\n",
       "    text-align: left;\n",
       "  }\n",
       "</style><div class='table-result-container'><table class='table-result'><thead style='background-color: white'><tr><th>S_ID</th><th>Tin_No</th><th>Company_Name</th><th>Date_of_Reg</th><th>SubCity</th><th>Town</th><th>Telephone</th><th>Fax</th><th>EMail</th><th>Business_License_No</th><th>Business_Type</th></tr></thead><tbody><tr><td>1.0</td><td>Local-0004765279</td><td>ßììßëàßê¡ ßîáßëàßêïßêï ßèòßîìßï╡ Fiker General Trading</td><td>21-03-2019</td><td>Akaki Kality</td><td>Addis Ababa</td><td>2.51911E+11</td><td>2.51114E+11</td><td>betebebubi@yahoo.com</td><td>14/665/1910/2005</td><td>Computers and Related Equipments\r</td></tr><tr><td>2.0</td><td>Local-0052225274</td><td>ßîîßë╡ßê░ßèò ßèóßèòßï│ßê╡ßë╡ßê¬ßê╡ ßèâßêï/ßï¿ßë░/ßï¿ßîì/ßê¢ßêàßëáßê¡ Getson Industries Pvt L</td><td>17-03-2017</td><td>Kirkos</td><td>Addis Ababa</td><td>2.5191E+11</td><td>2.51116E+11</td><td>info@getson.et</td><td>MT/AA/14/706/653400/2009</td><td>Chemicals and chemical products\r</td></tr><tr><td>3.0</td><td>Local-0052225274</td><td>ßîîßë╡ßê░ßèò ßèóßèòßï│ßê╡ßë╡ßê¬ßê╡ ßèâßêï/ßï¿ßë░/ßï¿ßîì/ßê¢ßêàßëáßê¡ Getson Industries Pvt L</td><td>17-03-2017</td><td>Kirkos</td><td>Addis Ababa</td><td>2.5191E+11</td><td>2.51116E+11</td><td>info@getson.et</td><td>MT/AA/14/706/653407/2009</td><td>Laboratory materials and Equipment\r</td></tr><tr><td>4.0</td><td>Local-0005051214</td><td>ßï│ßîìßê¢ßïè ßê¥ßê╡ßîïßèôßïì ßêÑßê½ ßë░ßëïßê½ßî¡ßìí ßê¢ßê╜ßèÉßê¬ ßè¬ßê½ßï¡ ßèÑßèô ßï¿ßîìßèòßëúßë│ ßèÑßëâßïÄßë╜ ßîàßê¥ßêï ßèòßîìßï╡</td><td>06-09-2019</td><td>Atsie Tewodros kifil</td><td>Bahir dar</td><td>911468033</td><td>918764449</td><td>dagmye63@gmail.com</td><td>03/213/01/3025/2005</td><td>Grade VI\r</td></tr><tr><td>5.0</td><td>Local-0005051214</td><td>ßï│ßîìßê¢ßïè ßê¥ßê╡ßîïßèôßïì ßêÑßê½ ßë░ßëïßê½ßî¡ßìí ßê¢ßê╜ßèÉßê¬ ßè¬ßê½ßï¡ ßèÑßèô ßï¿ßîìßèòßëúßë│ ßèÑßëâßïÄßë╜ ßîàßê¥ßêï ßèòßîìßï╡</td><td>06-09-2019</td><td>Atsie Tewodros kifil</td><td>Bahir dar</td><td>911468033</td><td>918764449</td><td>dagmye63@gmail.com</td><td>AM/BD/HDR/03/213/6011912/2008</td><td>Building Materials\r</td></tr></tbody></table></div>"
      ]
     },
     "metadata": {
      "application/vnd.databricks.v1+output": {
       "addedWidgets": {},
       "aggData": [],
       "aggError": "",
       "aggOverflow": false,
       "aggSchema": [],
       "aggSeriesLimitReached": false,
       "aggType": "",
       "arguments": {},
       "columnCustomDisplayInfos": {},
       "data": [
        [
         1.0,
         "Local-0004765279",
         "ßììßëàßê¡ ßîáßëàßêïßêï ßèòßîìßï╡ Fiker General Trading",
         "21-03-2019",
         "Akaki Kality",
         "Addis Ababa",
         "2.51911E+11",
         "2.51114E+11",
         "betebebubi@yahoo.com",
         "14/665/1910/2005",
         "Computers and Related Equipments\r"
        ],
        [
         2.0,
         "Local-0052225274",
         "ßîîßë╡ßê░ßèò ßèóßèòßï│ßê╡ßë╡ßê¬ßê╡ ßèâßêï/ßï¿ßë░/ßï¿ßîì/ßê¢ßêàßëáßê¡ Getson Industries Pvt L",
         "17-03-2017",
         "Kirkos",
         "Addis Ababa",
         "2.5191E+11",
         "2.51116E+11",
         "info@getson.et",
         "MT/AA/14/706/653400/2009",
         "Chemicals and chemical products\r"
        ],
        [
         3.0,
         "Local-0052225274",
         "ßîîßë╡ßê░ßèò ßèóßèòßï│ßê╡ßë╡ßê¬ßê╡ ßèâßêï/ßï¿ßë░/ßï¿ßîì/ßê¢ßêàßëáßê¡ Getson Industries Pvt L",
         "17-03-2017",
         "Kirkos",
         "Addis Ababa",
         "2.5191E+11",
         "2.51116E+11",
         "info@getson.et",
         "MT/AA/14/706/653407/2009",
         "Laboratory materials and Equipment\r"
        ],
        [
         4.0,
         "Local-0005051214",
         "ßï│ßîìßê¢ßïè ßê¥ßê╡ßîïßèôßïì ßêÑßê½ ßë░ßëïßê½ßî¡ßìí ßê¢ßê╜ßèÉßê¬ ßè¬ßê½ßï¡ ßèÑßèô ßï¿ßîìßèòßëúßë│ ßèÑßëâßïÄßë╜ ßîàßê¥ßêï ßèòßîìßï╡",
         "06-09-2019",
         "Atsie Tewodros kifil",
         "Bahir dar",
         "911468033",
         "918764449",
         "dagmye63@gmail.com",
         "03/213/01/3025/2005",
         "Grade VI\r"
        ],
        [
         5.0,
         "Local-0005051214",
         "ßï│ßîìßê¢ßïè ßê¥ßê╡ßîïßèôßïì ßêÑßê½ ßë░ßëïßê½ßî¡ßìí ßê¢ßê╜ßèÉßê¬ ßè¬ßê½ßï¡ ßèÑßèô ßï¿ßîìßèòßëúßë│ ßèÑßëâßïÄßë╜ ßîàßê¥ßêï ßèòßîìßï╡",
         "06-09-2019",
         "Atsie Tewodros kifil",
         "Bahir dar",
         "911468033",
         "918764449",
         "dagmye63@gmail.com",
         "AM/BD/HDR/03/213/6011912/2008",
         "Building Materials\r"
        ]
       ],
       "datasetInfos": [],
       "dbfsResultPath": null,
       "isJsonSchema": true,
       "metadata": {},
       "overflow": false,
       "plotOptions": {
        "customPlotOptions": {},
        "displayType": "table",
        "pivotAggregation": null,
        "pivotColumns": null,
        "xColumns": null,
        "yColumns": null
       },
       "removedWidgets": [],
       "schema": [
        {
         "metadata": "{}",
         "name": "S_ID",
         "type": "\"double\""
        },
        {
         "metadata": "{}",
         "name": "Tin_No",
         "type": "\"string\""
        },
        {
         "metadata": "{}",
         "name": "Company_Name",
         "type": "\"string\""
        },
        {
         "metadata": "{}",
         "name": "Date_of_Reg",
         "type": "\"string\""
        },
        {
         "metadata": "{}",
         "name": "SubCity",
         "type": "\"string\""
        },
        {
         "metadata": "{}",
         "name": "Town",
         "type": "\"string\""
        },
        {
         "metadata": "{}",
         "name": "Telephone",
         "type": "\"string\""
        },
        {
         "metadata": "{}",
         "name": "Fax",
         "type": "\"string\""
        },
        {
         "metadata": "{}",
         "name": "EMail",
         "type": "\"string\""
        },
        {
         "metadata": "{}",
         "name": "Business_License_No",
         "type": "\"string\""
        },
        {
         "metadata": "{}",
         "name": "Business_Type",
         "type": "\"string\""
        }
       ],
       "type": "table"
      }
     },
     "output_type": "display_data"
    }
   ],
   "source": [
    "display(df.limit(5))"
   ]
  },
  {
   "cell_type": "markdown",
   "metadata": {
    "application/vnd.databricks.v1+cell": {
     "cellMetadata": {
      "byteLimit": 2048000,
      "rowLimit": 10000
     },
     "inputWidgets": {},
     "nuid": "3145262b-e978-4782-8ef3-1967a2f7bac2",
     "showTitle": false,
     "title": ""
    }
   },
   "source": [
    "### Apply Business Rule"
   ]
  },
  {
   "cell_type": "code",
   "execution_count": 0,
   "metadata": {
    "application/vnd.databricks.v1+cell": {
     "cellMetadata": {
      "byteLimit": 2048000,
      "rowLimit": 10000
     },
     "inputWidgets": {},
     "nuid": "23a5db39-1604-443e-8aef-0bf618cc3e93",
     "showTitle": false,
     "title": ""
    }
   },
   "outputs": [],
   "source": [
    "if source_object_name == \"supplier\":\n",
    "    # Adding negotiation score and defect quality column based on business type in supplier\n",
    "    df = df.withColumn('Negotiation_Score', \n",
    "                       when(col('Business_Type') == 'Printing Press', 0.9)\n",
    "                       .when(col('Business_Type') == 'Stationery Materials', 0.8)\n",
    "                       .when(col('Business_Type') == 'Software Development and Design', 0.95)\n",
    "                       .otherwise(0.75)) \\\n",
    "            .withColumn('Defect_Quality',\n",
    "                        when(col('Business_Type').isin('Detergents', 'Sanitary Items'), 'High') \\\n",
    "                        .when(col('Business_Type').isin('Building and Construction Materials', \n",
    "                                                        'Metal and Metal Products'), 'Medium') \\\n",
    "                        .otherwise('Low'))\n",
    "            \n",
    "elif source_object_name == \"transportation\":\n",
    "    # Adding priority column based on modes in transportation\n",
    "    df = df.withColumn('Priority',\n",
    "                       when(col('MODES') == 'Truck', 1)\n",
    "                       .when(col('MODES') == 'Ship', 2)\n",
    "                       .when(col('MODES') == 'Airplane', 3)\n",
    "                       .otherwise(0))\n",
    "    \n",
    "elif source_object_name == \"product\":\n",
    "    # Adding price category column in product\n",
    "    df = df.withColumn('Price_Category',\n",
    "                       when(col('Price') < 50, 'Low Price')\n",
    "                       .when((col('Price') > 50) & (col('Price') < 200), 'Medium Price')\n",
    "                       .when(col('Price') > 200, 'High Price')\n",
    "                       .otherwise('Unknown'))\n",
    "\n",
    "elif source_object_name == 'purchaseorder':\n",
    "    # Adding Total cost column in purchaseorder\n",
    "    df = df.withColumn('Total_Cost', col('Order_quantities') * col('Costs'))"
   ]
  },
  {
   "cell_type": "code",
   "execution_count": 0,
   "metadata": {
    "application/vnd.databricks.v1+cell": {
     "cellMetadata": {
      "byteLimit": 2048000,
      "rowLimit": 10000
     },
     "inputWidgets": {},
     "nuid": "16e513c5-42a9-4db5-b33a-62d6c6c082e9",
     "showTitle": false,
     "title": ""
    }
   },
   "outputs": [
    {
     "output_type": "display_data",
     "data": {
      "text/html": [
       "<style scoped>\n",
       "  .table-result-container {\n",
       "    max-height: 300px;\n",
       "    overflow: auto;\n",
       "  }\n",
       "  table, th, td {\n",
       "    border: 1px solid black;\n",
       "    border-collapse: collapse;\n",
       "  }\n",
       "  th, td {\n",
       "    padding: 5px;\n",
       "  }\n",
       "  th {\n",
       "    text-align: left;\n",
       "  }\n",
       "</style><div class='table-result-container'><table class='table-result'><thead style='background-color: white'><tr><th>S_ID</th><th>Tin_No</th><th>Company_Name</th><th>Date_of_Reg</th><th>SubCity</th><th>Town</th><th>Telephone</th><th>Fax</th><th>EMail</th><th>Business_License_No</th><th>Business_Type</th><th>Negotiation_Score</th><th>Defect_Quality</th></tr></thead><tbody><tr><td>1.0</td><td>Local-0004765279</td><td>ßììßëàßê¡ ßîáßëàßêïßêï ßèòßîìßï╡ Fiker General Trading</td><td>21-03-2019</td><td>Akaki Kality</td><td>Addis Ababa</td><td>2.51911E+11</td><td>2.51114E+11</td><td>betebebubi@yahoo.com</td><td>14/665/1910/2005</td><td>Computers and Related Equipments\r</td><td>0.75</td><td>Low</td></tr><tr><td>2.0</td><td>Local-0052225274</td><td>ßîîßë╡ßê░ßèò ßèóßèòßï│ßê╡ßë╡ßê¬ßê╡ ßèâßêï/ßï¿ßë░/ßï¿ßîì/ßê¢ßêàßëáßê¡ Getson Industries Pvt L</td><td>17-03-2017</td><td>Kirkos</td><td>Addis Ababa</td><td>2.5191E+11</td><td>2.51116E+11</td><td>info@getson.et</td><td>MT/AA/14/706/653400/2009</td><td>Chemicals and chemical products\r</td><td>0.75</td><td>Low</td></tr><tr><td>3.0</td><td>Local-0052225274</td><td>ßîîßë╡ßê░ßèò ßèóßèòßï│ßê╡ßë╡ßê¬ßê╡ ßèâßêï/ßï¿ßë░/ßï¿ßîì/ßê¢ßêàßëáßê¡ Getson Industries Pvt L</td><td>17-03-2017</td><td>Kirkos</td><td>Addis Ababa</td><td>2.5191E+11</td><td>2.51116E+11</td><td>info@getson.et</td><td>MT/AA/14/706/653407/2009</td><td>Laboratory materials and Equipment\r</td><td>0.75</td><td>Low</td></tr><tr><td>4.0</td><td>Local-0005051214</td><td>ßï│ßîìßê¢ßïè ßê¥ßê╡ßîïßèôßïì ßêÑßê½ ßë░ßëïßê½ßî¡ßìí ßê¢ßê╜ßèÉßê¬ ßè¬ßê½ßï¡ ßèÑßèô ßï¿ßîìßèòßëúßë│ ßèÑßëâßïÄßë╜ ßîàßê¥ßêï ßèòßîìßï╡</td><td>06-09-2019</td><td>Atsie Tewodros kifil</td><td>Bahir dar</td><td>911468033</td><td>918764449</td><td>dagmye63@gmail.com</td><td>03/213/01/3025/2005</td><td>Grade VI\r</td><td>0.75</td><td>Low</td></tr><tr><td>5.0</td><td>Local-0005051214</td><td>ßï│ßîìßê¢ßïè ßê¥ßê╡ßîïßèôßïì ßêÑßê½ ßë░ßëïßê½ßî¡ßìí ßê¢ßê╜ßèÉßê¬ ßè¬ßê½ßï¡ ßèÑßèô ßï¿ßîìßèòßëúßë│ ßèÑßëâßïÄßë╜ ßîàßê¥ßêï ßèòßîìßï╡</td><td>06-09-2019</td><td>Atsie Tewodros kifil</td><td>Bahir dar</td><td>911468033</td><td>918764449</td><td>dagmye63@gmail.com</td><td>AM/BD/HDR/03/213/6011912/2008</td><td>Building Materials\r</td><td>0.75</td><td>Low</td></tr></tbody></table></div>"
      ]
     },
     "metadata": {
      "application/vnd.databricks.v1+output": {
       "addedWidgets": {},
       "aggData": [],
       "aggError": "",
       "aggOverflow": false,
       "aggSchema": [],
       "aggSeriesLimitReached": false,
       "aggType": "",
       "arguments": {},
       "columnCustomDisplayInfos": {},
       "data": [
        [
         1.0,
         "Local-0004765279",
         "ßììßëàßê¡ ßîáßëàßêïßêï ßèòßîìßï╡ Fiker General Trading",
         "21-03-2019",
         "Akaki Kality",
         "Addis Ababa",
         "2.51911E+11",
         "2.51114E+11",
         "betebebubi@yahoo.com",
         "14/665/1910/2005",
         "Computers and Related Equipments\r",
         0.75,
         "Low"
        ],
        [
         2.0,
         "Local-0052225274",
         "ßîîßë╡ßê░ßèò ßèóßèòßï│ßê╡ßë╡ßê¬ßê╡ ßèâßêï/ßï¿ßë░/ßï¿ßîì/ßê¢ßêàßëáßê¡ Getson Industries Pvt L",
         "17-03-2017",
         "Kirkos",
         "Addis Ababa",
         "2.5191E+11",
         "2.51116E+11",
         "info@getson.et",
         "MT/AA/14/706/653400/2009",
         "Chemicals and chemical products\r",
         0.75,
         "Low"
        ],
        [
         3.0,
         "Local-0052225274",
         "ßîîßë╡ßê░ßèò ßèóßèòßï│ßê╡ßë╡ßê¬ßê╡ ßèâßêï/ßï¿ßë░/ßï¿ßîì/ßê¢ßêàßëáßê¡ Getson Industries Pvt L",
         "17-03-2017",
         "Kirkos",
         "Addis Ababa",
         "2.5191E+11",
         "2.51116E+11",
         "info@getson.et",
         "MT/AA/14/706/653407/2009",
         "Laboratory materials and Equipment\r",
         0.75,
         "Low"
        ],
        [
         4.0,
         "Local-0005051214",
         "ßï│ßîìßê¢ßïè ßê¥ßê╡ßîïßèôßïì ßêÑßê½ ßë░ßëïßê½ßî¡ßìí ßê¢ßê╜ßèÉßê¬ ßè¬ßê½ßï¡ ßèÑßèô ßï¿ßîìßèòßëúßë│ ßèÑßëâßïÄßë╜ ßîàßê¥ßêï ßèòßîìßï╡",
         "06-09-2019",
         "Atsie Tewodros kifil",
         "Bahir dar",
         "911468033",
         "918764449",
         "dagmye63@gmail.com",
         "03/213/01/3025/2005",
         "Grade VI\r",
         0.75,
         "Low"
        ],
        [
         5.0,
         "Local-0005051214",
         "ßï│ßîìßê¢ßïè ßê¥ßê╡ßîïßèôßïì ßêÑßê½ ßë░ßëïßê½ßî¡ßìí ßê¢ßê╜ßèÉßê¬ ßè¬ßê½ßï¡ ßèÑßèô ßï¿ßîìßèòßëúßë│ ßèÑßëâßïÄßë╜ ßîàßê¥ßêï ßèòßîìßï╡",
         "06-09-2019",
         "Atsie Tewodros kifil",
         "Bahir dar",
         "911468033",
         "918764449",
         "dagmye63@gmail.com",
         "AM/BD/HDR/03/213/6011912/2008",
         "Building Materials\r",
         0.75,
         "Low"
        ]
       ],
       "datasetInfos": [],
       "dbfsResultPath": null,
       "isJsonSchema": true,
       "metadata": {},
       "overflow": false,
       "plotOptions": {
        "customPlotOptions": {},
        "displayType": "table",
        "pivotAggregation": null,
        "pivotColumns": null,
        "xColumns": null,
        "yColumns": null
       },
       "removedWidgets": [],
       "schema": [
        {
         "metadata": "{}",
         "name": "S_ID",
         "type": "\"double\""
        },
        {
         "metadata": "{}",
         "name": "Tin_No",
         "type": "\"string\""
        },
        {
         "metadata": "{}",
         "name": "Company_Name",
         "type": "\"string\""
        },
        {
         "metadata": "{}",
         "name": "Date_of_Reg",
         "type": "\"string\""
        },
        {
         "metadata": "{}",
         "name": "SubCity",
         "type": "\"string\""
        },
        {
         "metadata": "{}",
         "name": "Town",
         "type": "\"string\""
        },
        {
         "metadata": "{}",
         "name": "Telephone",
         "type": "\"string\""
        },
        {
         "metadata": "{}",
         "name": "Fax",
         "type": "\"string\""
        },
        {
         "metadata": "{}",
         "name": "EMail",
         "type": "\"string\""
        },
        {
         "metadata": "{}",
         "name": "Business_License_No",
         "type": "\"string\""
        },
        {
         "metadata": "{}",
         "name": "Business_Type",
         "type": "\"string\""
        },
        {
         "metadata": "{}",
         "name": "Negotiation_Score",
         "type": "\"double\""
        },
        {
         "metadata": "{}",
         "name": "Defect_Quality",
         "type": "\"string\""
        }
       ],
       "type": "table"
      }
     },
     "output_type": "display_data"
    }
   ],
   "source": [
    "display(df.limit(5))"
   ]
  },
  {
   "cell_type": "markdown",
   "metadata": {
    "application/vnd.databricks.v1+cell": {
     "cellMetadata": {
      "byteLimit": 2048000,
      "rowLimit": 10000
     },
     "inputWidgets": {},
     "nuid": "6c8bce99-c28a-479d-b7dc-39b748f31485",
     "showTitle": false,
     "title": ""
    }
   },
   "source": [
    "#### Write transformed data to silver container in delta format"
   ]
  },
  {
   "cell_type": "code",
   "execution_count": 0,
   "metadata": {
    "application/vnd.databricks.v1+cell": {
     "cellMetadata": {
      "byteLimit": 2048000,
      "rowLimit": 10000
     },
     "inputWidgets": {},
     "nuid": "cfc47e61-ed80-4bc3-85f9-8ad434c8a155",
     "showTitle": false,
     "title": ""
    }
   },
   "outputs": [],
   "source": [
    "if load_type == 'full_load':\n",
    "    df.write.format('delta').mode('overwrite').save(f'{silver_folder_path}/{source_object_name}')\n",
    "    # Creating a Delta Table instance\n",
    "    from delta.tables import DeltaTable\n",
    "    dt = DeltaTable.forPath(spark, f'{silver_folder_path}/{source_object_name}')\n",
    "    # Removing old history\n",
    "    dt.vacuum(retentionHours=24)\n",
    "\n",
    "elif load_type == 'incremental':\n",
    "    df.write.format('delta').mode('append').save(f'{silver_folder_path}/{source_object_name}')"
   ]
  }
 ],
 "metadata": {
  "application/vnd.databricks.v1+notebook": {
   "dashboards": [],
   "language": "python",
   "notebookMetadata": {
    "pythonIndentUnit": 4
   },
   "notebookName": "silver_layer_trans",
   "widgets": {
    "Incre_Folder_Name": {
     "currentValue": "",
     "nuid": "ed3fbaf4-7350-4aa6-b4ca-077e5e2f94db",
     "widgetInfo": {
      "widgetType": "text",
      "defaultValue": "",
      "label": null,
      "name": "Incre_Folder_Name",
      "options": {
       "widgetType": "text",
       "autoCreated": null,
       "validationRegex": null
      }
     }
    },
    "Load_Type": {
     "currentValue": "full_load",
     "nuid": "c7c35495-71da-4adf-a826-3b307cd4c4b6",
     "widgetInfo": {
      "widgetType": "text",
      "defaultValue": "",
      "label": null,
      "name": "Load_Type",
      "options": {
       "widgetType": "text",
       "autoCreated": null,
       "validationRegex": null
      }
     }
    },
    "Source_Object_Name": {
     "currentValue": "supplier",
     "nuid": "cfb2dd7e-1aad-4281-9ae7-d4d4679430fb",
     "widgetInfo": {
      "widgetType": "text",
      "defaultValue": "",
      "label": null,
      "name": "Source_Object_Name",
      "options": {
       "widgetType": "text",
       "autoCreated": null,
       "validationRegex": null
      }
     }
    }
   }
  }
 },
 "nbformat": 4,
 "nbformat_minor": 0
}
