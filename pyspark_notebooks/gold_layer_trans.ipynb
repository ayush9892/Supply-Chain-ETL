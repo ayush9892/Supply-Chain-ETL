{
 "cells": [
  {
   "cell_type": "code",
   "execution_count": 0,
   "metadata": {
    "application/vnd.databricks.v1+cell": {
     "cellMetadata": {
      "byteLimit": 2048000,
      "rowLimit": 10000
     },
     "inputWidgets": {},
     "nuid": "cd87c4df-3da4-458d-aa9c-57bade6cc6d2",
     "showTitle": false,
     "title": ""
    }
   },
   "outputs": [],
   "source": [
    "%run \"./includes/configuration\""
   ]
  },
  {
   "cell_type": "markdown",
   "metadata": {
    "application/vnd.databricks.v1+cell": {
     "cellMetadata": {
      "byteLimit": 2048000,
      "rowLimit": 10000
     },
     "inputWidgets": {},
     "nuid": "78c8a65e-c36b-4f7b-af10-e95a1ba97548",
     "showTitle": false,
     "title": ""
    }
   },
   "source": [
    "#### Load silver layer data "
   ]
  },
  {
   "cell_type": "code",
   "execution_count": 0,
   "metadata": {
    "application/vnd.databricks.v1+cell": {
     "cellMetadata": {
      "byteLimit": 2048000,
      "rowLimit": 10000
     },
     "inputWidgets": {},
     "nuid": "265bb129-f224-401d-867a-dfdd64e499f4",
     "showTitle": false,
     "title": ""
    }
   },
   "outputs": [],
   "source": [
    "supplier_df = spark.read.format('delta').load(f'{silver_folder_path}/supplier')\n",
    "product_df = spark.read.format('delta').load(f'{silver_folder_path}/product')\n",
    "transportation_df = spark.read.format('delta').load(f'{silver_folder_path}/transportation')\n",
    "purchaseorder_df = spark.read.format('delta').load(f'{silver_folder_path}/purchaseorder')"
   ]
  },
  {
   "cell_type": "code",
   "execution_count": 0,
   "metadata": {
    "application/vnd.databricks.v1+cell": {
     "cellMetadata": {
      "byteLimit": 2048000,
      "rowLimit": 10000
     },
     "inputWidgets": {},
     "nuid": "1b957918-1e82-47f7-9ad0-dc74e10a91a1",
     "showTitle": false,
     "title": ""
    }
   },
   "outputs": [
    {
     "output_type": "display_data",
     "data": {
      "text/html": [
       "<style scoped>\n",
       "  .table-result-container {\n",
       "    max-height: 300px;\n",
       "    overflow: auto;\n",
       "  }\n",
       "  table, th, td {\n",
       "    border: 1px solid black;\n",
       "    border-collapse: collapse;\n",
       "  }\n",
       "  th, td {\n",
       "    padding: 5px;\n",
       "  }\n",
       "  th {\n",
       "    text-align: left;\n",
       "  }\n",
       "</style><div class='table-result-container'><table class='table-result'><thead style='background-color: white'><tr><th>S_ID</th><th>Tin_No</th><th>Company_Name</th><th>Date_of_Reg</th><th>SubCity</th><th>Town</th><th>Telephone</th><th>Fax</th><th>EMail</th><th>Business_License_No</th><th>Business_Type</th><th>Negotiation_Score</th><th>Defect_Quality</th></tr></thead><tbody><tr><td>1.0</td><td>Local-0004765279</td><td>ßììßëàßê¡ ßîáßëàßêïßêï ßèòßîìßï╡ Fiker General Trading</td><td>21-03-2019</td><td>Akaki Kality</td><td>Addis Ababa</td><td>2.51911E+11</td><td>2.51114E+11</td><td>betebebubi@yahoo.com</td><td>14/665/1910/2005</td><td>Computers and Related Equipments\r</td><td>0.75</td><td>Low</td></tr><tr><td>2.0</td><td>Local-0052225274</td><td>ßîîßë╡ßê░ßèò ßèóßèòßï│ßê╡ßë╡ßê¬ßê╡ ßèâßêï/ßï¿ßë░/ßï¿ßîì/ßê¢ßêàßëáßê¡ Getson Industries Pvt L</td><td>17-03-2017</td><td>Kirkos</td><td>Addis Ababa</td><td>2.5191E+11</td><td>2.51116E+11</td><td>info@getson.et</td><td>MT/AA/14/706/653400/2009</td><td>Chemicals and chemical products\r</td><td>0.75</td><td>Low</td></tr><tr><td>3.0</td><td>Local-0052225274</td><td>ßîîßë╡ßê░ßèò ßèóßèòßï│ßê╡ßë╡ßê¬ßê╡ ßèâßêï/ßï¿ßë░/ßï¿ßîì/ßê¢ßêàßëáßê¡ Getson Industries Pvt L</td><td>17-03-2017</td><td>Kirkos</td><td>Addis Ababa</td><td>2.5191E+11</td><td>2.51116E+11</td><td>info@getson.et</td><td>MT/AA/14/706/653407/2009</td><td>Laboratory materials and Equipment\r</td><td>0.75</td><td>Low</td></tr><tr><td>4.0</td><td>Local-0005051214</td><td>ßï│ßîìßê¢ßïè ßê¥ßê╡ßîïßèôßïì ßêÑßê½ ßë░ßëïßê½ßî¡ßìí ßê¢ßê╜ßèÉßê¬ ßè¬ßê½ßï¡ ßèÑßèô ßï¿ßîìßèòßëúßë│ ßèÑßëâßïÄßë╜ ßîàßê¥ßêï ßèòßîìßï╡</td><td>06-09-2019</td><td>Atsie Tewodros kifil</td><td>Bahir dar</td><td>911468033</td><td>918764449</td><td>dagmye63@gmail.com</td><td>03/213/01/3025/2005</td><td>Grade VI\r</td><td>0.75</td><td>Low</td></tr><tr><td>5.0</td><td>Local-0005051214</td><td>ßï│ßîìßê¢ßïè ßê¥ßê╡ßîïßèôßïì ßêÑßê½ ßë░ßëïßê½ßî¡ßìí ßê¢ßê╜ßèÉßê¬ ßè¬ßê½ßï¡ ßèÑßèô ßï¿ßîìßèòßëúßë│ ßèÑßëâßïÄßë╜ ßîàßê¥ßêï ßèòßîìßï╡</td><td>06-09-2019</td><td>Atsie Tewodros kifil</td><td>Bahir dar</td><td>911468033</td><td>918764449</td><td>dagmye63@gmail.com</td><td>AM/BD/HDR/03/213/6011912/2008</td><td>Building Materials\r</td><td>0.75</td><td>Low</td></tr></tbody></table></div>"
      ]
     },
     "metadata": {
      "application/vnd.databricks.v1+output": {
       "addedWidgets": {},
       "aggData": [],
       "aggError": "",
       "aggOverflow": false,
       "aggSchema": [],
       "aggSeriesLimitReached": false,
       "aggType": "",
       "arguments": {},
       "columnCustomDisplayInfos": {},
       "data": [
        [
         1.0,
         "Local-0004765279",
         "ßììßëàßê¡ ßîáßëàßêïßêï ßèòßîìßï╡ Fiker General Trading",
         "21-03-2019",
         "Akaki Kality",
         "Addis Ababa",
         "2.51911E+11",
         "2.51114E+11",
         "betebebubi@yahoo.com",
         "14/665/1910/2005",
         "Computers and Related Equipments\r",
         0.75,
         "Low"
        ],
        [
         2.0,
         "Local-0052225274",
         "ßîîßë╡ßê░ßèò ßèóßèòßï│ßê╡ßë╡ßê¬ßê╡ ßèâßêï/ßï¿ßë░/ßï¿ßîì/ßê¢ßêàßëáßê¡ Getson Industries Pvt L",
         "17-03-2017",
         "Kirkos",
         "Addis Ababa",
         "2.5191E+11",
         "2.51116E+11",
         "info@getson.et",
         "MT/AA/14/706/653400/2009",
         "Chemicals and chemical products\r",
         0.75,
         "Low"
        ],
        [
         3.0,
         "Local-0052225274",
         "ßîîßë╡ßê░ßèò ßèóßèòßï│ßê╡ßë╡ßê¬ßê╡ ßèâßêï/ßï¿ßë░/ßï¿ßîì/ßê¢ßêàßëáßê¡ Getson Industries Pvt L",
         "17-03-2017",
         "Kirkos",
         "Addis Ababa",
         "2.5191E+11",
         "2.51116E+11",
         "info@getson.et",
         "MT/AA/14/706/653407/2009",
         "Laboratory materials and Equipment\r",
         0.75,
         "Low"
        ],
        [
         4.0,
         "Local-0005051214",
         "ßï│ßîìßê¢ßïè ßê¥ßê╡ßîïßèôßïì ßêÑßê½ ßë░ßëïßê½ßî¡ßìí ßê¢ßê╜ßèÉßê¬ ßè¬ßê½ßï¡ ßèÑßèô ßï¿ßîìßèòßëúßë│ ßèÑßëâßïÄßë╜ ßîàßê¥ßêï ßèòßîìßï╡",
         "06-09-2019",
         "Atsie Tewodros kifil",
         "Bahir dar",
         "911468033",
         "918764449",
         "dagmye63@gmail.com",
         "03/213/01/3025/2005",
         "Grade VI\r",
         0.75,
         "Low"
        ],
        [
         5.0,
         "Local-0005051214",
         "ßï│ßîìßê¢ßïè ßê¥ßê╡ßîïßèôßïì ßêÑßê½ ßë░ßëïßê½ßî¡ßìí ßê¢ßê╜ßèÉßê¬ ßè¬ßê½ßï¡ ßèÑßèô ßï¿ßîìßèòßëúßë│ ßèÑßëâßïÄßë╜ ßîàßê¥ßêï ßèòßîìßï╡",
         "06-09-2019",
         "Atsie Tewodros kifil",
         "Bahir dar",
         "911468033",
         "918764449",
         "dagmye63@gmail.com",
         "AM/BD/HDR/03/213/6011912/2008",
         "Building Materials\r",
         0.75,
         "Low"
        ]
       ],
       "datasetInfos": [],
       "dbfsResultPath": null,
       "isJsonSchema": true,
       "metadata": {},
       "overflow": false,
       "plotOptions": {
        "customPlotOptions": {},
        "displayType": "table",
        "pivotAggregation": null,
        "pivotColumns": null,
        "xColumns": null,
        "yColumns": null
       },
       "removedWidgets": [],
       "schema": [
        {
         "metadata": "{}",
         "name": "S_ID",
         "type": "\"double\""
        },
        {
         "metadata": "{}",
         "name": "Tin_No",
         "type": "\"string\""
        },
        {
         "metadata": "{}",
         "name": "Company_Name",
         "type": "\"string\""
        },
        {
         "metadata": "{}",
         "name": "Date_of_Reg",
         "type": "\"string\""
        },
        {
         "metadata": "{}",
         "name": "SubCity",
         "type": "\"string\""
        },
        {
         "metadata": "{}",
         "name": "Town",
         "type": "\"string\""
        },
        {
         "metadata": "{}",
         "name": "Telephone",
         "type": "\"string\""
        },
        {
         "metadata": "{}",
         "name": "Fax",
         "type": "\"string\""
        },
        {
         "metadata": "{}",
         "name": "EMail",
         "type": "\"string\""
        },
        {
         "metadata": "{}",
         "name": "Business_License_No",
         "type": "\"string\""
        },
        {
         "metadata": "{}",
         "name": "Business_Type",
         "type": "\"string\""
        },
        {
         "metadata": "{}",
         "name": "Negotiation_Score",
         "type": "\"double\""
        },
        {
         "metadata": "{}",
         "name": "Defect_Quality",
         "type": "\"string\""
        }
       ],
       "type": "table"
      }
     },
     "output_type": "display_data"
    }
   ],
   "source": [
    "display(supplier_df.limit(5))"
   ]
  },
  {
   "cell_type": "code",
   "execution_count": 0,
   "metadata": {
    "application/vnd.databricks.v1+cell": {
     "cellMetadata": {
      "byteLimit": 2048000,
      "rowLimit": 10000
     },
     "inputWidgets": {},
     "nuid": "a759d98c-7cb3-4e71-ac94-95398e328c7c",
     "showTitle": false,
     "title": ""
    }
   },
   "outputs": [
    {
     "output_type": "display_data",
     "data": {
      "text/html": [
       "<style scoped>\n",
       "  .table-result-container {\n",
       "    max-height: 300px;\n",
       "    overflow: auto;\n",
       "  }\n",
       "  table, th, td {\n",
       "    border: 1px solid black;\n",
       "    border-collapse: collapse;\n",
       "  }\n",
       "  th, td {\n",
       "    padding: 5px;\n",
       "  }\n",
       "  th {\n",
       "    text-align: left;\n",
       "  }\n",
       "</style><div class='table-result-container'><table class='table-result'><thead style='background-color: white'><tr><th>P_ID</th><th>Product_type</th><th>Price</th><th>Price_Category</th></tr></thead><tbody><tr><td>SKU0</td><td>Iron Materials</td><td>69.80800554</td><td>Medium Price</td></tr><tr><td>SKU1</td><td>Copper Materials</td><td>14.84352328</td><td>Low Price</td></tr><tr><td>SKU2</td><td>Iron Materials</td><td>11.31968329</td><td>Low Price</td></tr><tr><td>SKU3</td><td>Copper Materials</td><td>61.16334302</td><td>Medium Price</td></tr><tr><td>SKU4</td><td>Copper Materials</td><td>4.805496036</td><td>Low Price</td></tr></tbody></table></div>"
      ]
     },
     "metadata": {
      "application/vnd.databricks.v1+output": {
       "addedWidgets": {},
       "aggData": [],
       "aggError": "",
       "aggOverflow": false,
       "aggSchema": [],
       "aggSeriesLimitReached": false,
       "aggType": "",
       "arguments": {},
       "columnCustomDisplayInfos": {},
       "data": [
        [
         "SKU0",
         "Iron Materials",
         69.80800554,
         "Medium Price"
        ],
        [
         "SKU1",
         "Copper Materials",
         14.84352328,
         "Low Price"
        ],
        [
         "SKU2",
         "Iron Materials",
         11.31968329,
         "Low Price"
        ],
        [
         "SKU3",
         "Copper Materials",
         61.16334302,
         "Medium Price"
        ],
        [
         "SKU4",
         "Copper Materials",
         4.805496036,
         "Low Price"
        ]
       ],
       "datasetInfos": [],
       "dbfsResultPath": null,
       "isJsonSchema": true,
       "metadata": {},
       "overflow": false,
       "plotOptions": {
        "customPlotOptions": {},
        "displayType": "table",
        "pivotAggregation": null,
        "pivotColumns": null,
        "xColumns": null,
        "yColumns": null
       },
       "removedWidgets": [],
       "schema": [
        {
         "metadata": "{}",
         "name": "P_ID",
         "type": "\"string\""
        },
        {
         "metadata": "{}",
         "name": "Product_type",
         "type": "\"string\""
        },
        {
         "metadata": "{}",
         "name": "Price",
         "type": "\"double\""
        },
        {
         "metadata": "{}",
         "name": "Price_Category",
         "type": "\"string\""
        }
       ],
       "type": "table"
      }
     },
     "output_type": "display_data"
    }
   ],
   "source": [
    "display(product_df.limit(5))"
   ]
  },
  {
   "cell_type": "code",
   "execution_count": 0,
   "metadata": {
    "application/vnd.databricks.v1+cell": {
     "cellMetadata": {
      "byteLimit": 2048000,
      "rowLimit": 10000
     },
     "inputWidgets": {},
     "nuid": "c7a98ff1-e07e-4415-bd06-59dbf9798f3a",
     "showTitle": false,
     "title": ""
    }
   },
   "outputs": [
    {
     "output_type": "display_data",
     "data": {
      "text/html": [
       "<style scoped>\n",
       "  .table-result-container {\n",
       "    max-height: 300px;\n",
       "    overflow: auto;\n",
       "  }\n",
       "  table, th, td {\n",
       "    border: 1px solid black;\n",
       "    border-collapse: collapse;\n",
       "  }\n",
       "  th, td {\n",
       "    padding: 5px;\n",
       "  }\n",
       "  th {\n",
       "    text-align: left;\n",
       "  }\n",
       "</style><div class='table-result-container'><table class='table-result'><thead style='background-color: white'><tr><th>TRANSPORTATION_ID</th><th>MODES</th><th>Priority</th></tr></thead><tbody><tr><td>1.0</td><td>Road\r</td><td>0</td></tr><tr><td>2.0</td><td>Air\r</td><td>0</td></tr><tr><td>3.0</td><td>Rail\r</td><td>0</td></tr><tr><td>4.0</td><td>Sea\r</td><td>0</td></tr></tbody></table></div>"
      ]
     },
     "metadata": {
      "application/vnd.databricks.v1+output": {
       "addedWidgets": {},
       "aggData": [],
       "aggError": "",
       "aggOverflow": false,
       "aggSchema": [],
       "aggSeriesLimitReached": false,
       "aggType": "",
       "arguments": {},
       "columnCustomDisplayInfos": {},
       "data": [
        [
         1.0,
         "Road\r",
         0
        ],
        [
         2.0,
         "Air\r",
         0
        ],
        [
         3.0,
         "Rail\r",
         0
        ],
        [
         4.0,
         "Sea\r",
         0
        ]
       ],
       "datasetInfos": [],
       "dbfsResultPath": null,
       "isJsonSchema": true,
       "metadata": {},
       "overflow": false,
       "plotOptions": {
        "customPlotOptions": {},
        "displayType": "table",
        "pivotAggregation": null,
        "pivotColumns": null,
        "xColumns": null,
        "yColumns": null
       },
       "removedWidgets": [],
       "schema": [
        {
         "metadata": "{}",
         "name": "TRANSPORTATION_ID",
         "type": "\"double\""
        },
        {
         "metadata": "{}",
         "name": "MODES",
         "type": "\"string\""
        },
        {
         "metadata": "{}",
         "name": "Priority",
         "type": "\"integer\""
        }
       ],
       "type": "table"
      }
     },
     "output_type": "display_data"
    }
   ],
   "source": [
    "display(transportation_df)"
   ]
  },
  {
   "cell_type": "code",
   "execution_count": 0,
   "metadata": {
    "application/vnd.databricks.v1+cell": {
     "cellMetadata": {
      "byteLimit": 2048000,
      "rowLimit": 10000
     },
     "inputWidgets": {},
     "nuid": "95cde994-48e2-49d6-8350-7f0082281208",
     "showTitle": false,
     "title": ""
    }
   },
   "outputs": [
    {
     "output_type": "display_data",
     "data": {
      "text/html": [
       "<style scoped>\n",
       "  .table-result-container {\n",
       "    max-height: 300px;\n",
       "    overflow: auto;\n",
       "  }\n",
       "  table, th, td {\n",
       "    border: 1px solid black;\n",
       "    border-collapse: collapse;\n",
       "  }\n",
       "  th, td {\n",
       "    padding: 5px;\n",
       "  }\n",
       "  th {\n",
       "    text-align: left;\n",
       "  }\n",
       "</style><div class='table-result-container'><table class='table-result'><thead style='background-color: white'><tr><th>PO_ID</th><th>P_ID</th><th>Availability</th><th>Number_of_products_sold</th><th>Revenue_generated</th><th>Stock_levels</th><th>Lead_times</th><th>Order_quantities</th><th>Shipping_times</th><th>Shipping_carriers</th><th>Shipping_costs</th><th>Supplier_Id</th><th>Location</th><th>Lead_time</th><th>Production_volumes</th><th>Manufacturing_lead_time</th><th>Manufacturing_costs</th><th>Inspection_results</th><th>Defect_rates</th><th>Transportation_id</th><th>Routes</th><th>Costs</th><th>Total_Cost</th></tr></thead><tbody><tr><td>96</td><td>SKU95</td><td>65.0</td><td>672.0</td><td>7386.363944</td><td>15.0</td><td>14.0</td><td>26.0</td><td>9.0</td><td>Carrier B</td><td>8.63033887</td><td>26504.0</td><td>Mumbai</td><td>18.0</td><td>450.0</td><td>26.0</td><td>58.89068577</td><td>Pending</td><td>1.21088213</td><td>2.0</td><td>Route A</td><td>778.8642414</td><td>20250.4702764</td></tr><tr><td>97</td><td>SKU96</td><td>29.0</td><td>324.0</td><td>7698.424766</td><td>67.0</td><td>2.0</td><td>32.0</td><td>3.0</td><td>Carrier C</td><td>5.352878044</td><td>5530.0</td><td>Mumbai</td><td>28.0</td><td>648.0</td><td>28.0</td><td>17.80375633</td><td>Pending</td><td>3.872047681</td><td>1.0</td><td>Route A</td><td>188.7421411</td><td>6039.7485152</td></tr><tr><td>98</td><td>SKU97</td><td>56.0</td><td>62.0</td><td>4370.91658</td><td>46.0</td><td>19.0</td><td>4.0</td><td>9.0</td><td>Carrier A</td><td>7.904845611</td><td>247.0</td><td>Mumbai</td><td>10.0</td><td>535.0</td><td>13.0</td><td>65.76515593</td><td>Fail</td><td>3.376237835</td><td>1.0</td><td>Route A</td><td>540.1324229</td><td>2160.5296916</td></tr><tr><td>99</td><td>SKU98</td><td>43.0</td><td>913.0</td><td>8525.95256</td><td>53.0</td><td>1.0</td><td>27.0</td><td>7.0</td><td>Carrier B</td><td>1.409801095</td><td>31074.0</td><td>Chennai</td><td>28.0</td><td>581.0</td><td>9.0</td><td>5.604690864</td><td>Pending</td><td>2.908122169</td><td>3.0</td><td>Route A</td><td>882.1988635</td><td>23819.3693145</td></tr><tr><td>100</td><td>SKU99</td><td>17.0</td><td>627.0</td><td>9185.185829</td><td>55.0</td><td>8.0</td><td>59.0</td><td>6.0</td><td>Carrier B</td><td>1.311023756</td><td>33277.0</td><td>Chennai</td><td>29.0</td><td>921.0</td><td>2.0</td><td>38.07289852</td><td>Fail</td><td>0.346027291</td><td>3.0</td><td>Route B</td><td>210.743009</td><td>12433.837531</td></tr></tbody></table></div>"
      ]
     },
     "metadata": {
      "application/vnd.databricks.v1+output": {
       "addedWidgets": {},
       "aggData": [],
       "aggError": "",
       "aggOverflow": false,
       "aggSchema": [],
       "aggSeriesLimitReached": false,
       "aggType": "",
       "arguments": {},
       "columnCustomDisplayInfos": {},
       "data": [
        [
         96,
         "SKU95",
         65.0,
         672.0,
         7386.363944,
         15.0,
         14.0,
         26.0,
         9.0,
         "Carrier B",
         8.63033887,
         26504.0,
         "Mumbai",
         18.0,
         450.0,
         26.0,
         58.89068577,
         "Pending",
         1.21088213,
         2.0,
         "Route A",
         778.8642414,
         20250.4702764
        ],
        [
         97,
         "SKU96",
         29.0,
         324.0,
         7698.424766,
         67.0,
         2.0,
         32.0,
         3.0,
         "Carrier C",
         5.352878044,
         5530.0,
         "Mumbai",
         28.0,
         648.0,
         28.0,
         17.80375633,
         "Pending",
         3.872047681,
         1.0,
         "Route A",
         188.7421411,
         6039.7485152
        ],
        [
         98,
         "SKU97",
         56.0,
         62.0,
         4370.91658,
         46.0,
         19.0,
         4.0,
         9.0,
         "Carrier A",
         7.904845611,
         247.0,
         "Mumbai",
         10.0,
         535.0,
         13.0,
         65.76515593,
         "Fail",
         3.376237835,
         1.0,
         "Route A",
         540.1324229,
         2160.5296916
        ],
        [
         99,
         "SKU98",
         43.0,
         913.0,
         8525.95256,
         53.0,
         1.0,
         27.0,
         7.0,
         "Carrier B",
         1.409801095,
         31074.0,
         "Chennai",
         28.0,
         581.0,
         9.0,
         5.604690864,
         "Pending",
         2.908122169,
         3.0,
         "Route A",
         882.1988635,
         23819.3693145
        ],
        [
         100,
         "SKU99",
         17.0,
         627.0,
         9185.185829,
         55.0,
         8.0,
         59.0,
         6.0,
         "Carrier B",
         1.311023756,
         33277.0,
         "Chennai",
         29.0,
         921.0,
         2.0,
         38.07289852,
         "Fail",
         0.346027291,
         3.0,
         "Route B",
         210.743009,
         12433.837531
        ]
       ],
       "datasetInfos": [],
       "dbfsResultPath": null,
       "isJsonSchema": true,
       "metadata": {},
       "overflow": false,
       "plotOptions": {
        "customPlotOptions": {},
        "displayType": "table",
        "pivotAggregation": null,
        "pivotColumns": null,
        "xColumns": null,
        "yColumns": null
       },
       "removedWidgets": [],
       "schema": [
        {
         "metadata": "{}",
         "name": "PO_ID",
         "type": "\"integer\""
        },
        {
         "metadata": "{}",
         "name": "P_ID",
         "type": "\"string\""
        },
        {
         "metadata": "{}",
         "name": "Availability",
         "type": "\"double\""
        },
        {
         "metadata": "{}",
         "name": "Number_of_products_sold",
         "type": "\"double\""
        },
        {
         "metadata": "{}",
         "name": "Revenue_generated",
         "type": "\"double\""
        },
        {
         "metadata": "{}",
         "name": "Stock_levels",
         "type": "\"double\""
        },
        {
         "metadata": "{}",
         "name": "Lead_times",
         "type": "\"double\""
        },
        {
         "metadata": "{}",
         "name": "Order_quantities",
         "type": "\"double\""
        },
        {
         "metadata": "{}",
         "name": "Shipping_times",
         "type": "\"double\""
        },
        {
         "metadata": "{}",
         "name": "Shipping_carriers",
         "type": "\"string\""
        },
        {
         "metadata": "{}",
         "name": "Shipping_costs",
         "type": "\"double\""
        },
        {
         "metadata": "{}",
         "name": "Supplier_Id",
         "type": "\"double\""
        },
        {
         "metadata": "{}",
         "name": "Location",
         "type": "\"string\""
        },
        {
         "metadata": "{}",
         "name": "Lead_time",
         "type": "\"double\""
        },
        {
         "metadata": "{}",
         "name": "Production_volumes",
         "type": "\"double\""
        },
        {
         "metadata": "{}",
         "name": "Manufacturing_lead_time",
         "type": "\"double\""
        },
        {
         "metadata": "{}",
         "name": "Manufacturing_costs",
         "type": "\"double\""
        },
        {
         "metadata": "{}",
         "name": "Inspection_results",
         "type": "\"string\""
        },
        {
         "metadata": "{}",
         "name": "Defect_rates",
         "type": "\"double\""
        },
        {
         "metadata": "{}",
         "name": "Transportation_id",
         "type": "\"double\""
        },
        {
         "metadata": "{}",
         "name": "Routes",
         "type": "\"string\""
        },
        {
         "metadata": "{}",
         "name": "Costs",
         "type": "\"double\""
        },
        {
         "metadata": "{}",
         "name": "Total_Cost",
         "type": "\"double\""
        }
       ],
       "type": "table"
      }
     },
     "output_type": "display_data"
    }
   ],
   "source": [
    "display(purchaseorder_df)"
   ]
  },
  {
   "cell_type": "markdown",
   "metadata": {
    "application/vnd.databricks.v1+cell": {
     "cellMetadata": {
      "byteLimit": 2048000,
      "rowLimit": 10000
     },
     "inputWidgets": {},
     "nuid": "4c6f87c1-34e2-4e1d-879c-ff4cef21bb6f",
     "showTitle": false,
     "title": ""
    }
   },
   "source": [
    "#### Rank suppliers based on total no of services they provide"
   ]
  },
  {
   "cell_type": "code",
   "execution_count": 0,
   "metadata": {
    "application/vnd.databricks.v1+cell": {
     "cellMetadata": {},
     "inputWidgets": {},
     "nuid": "fbb2a571-7290-43d3-8c01-45c85d38ab0a",
     "showTitle": false,
     "title": ""
    }
   },
   "outputs": [],
   "source": [
    "from pyspark.sql.window import Window\n",
    "from pyspark.sql.functions import desc, col, count_distinct, dense_rank, sum, avg, coalesce, lit"
   ]
  },
  {
   "cell_type": "code",
   "execution_count": 0,
   "metadata": {
    "application/vnd.databricks.v1+cell": {
     "cellMetadata": {
      "byteLimit": 2048000,
      "rowLimit": 10000
     },
     "inputWidgets": {},
     "nuid": "1778daff-3d3c-4b38-bdce-cc8abbf9a6a0",
     "showTitle": false,
     "title": ""
    }
   },
   "outputs": [
    {
     "output_type": "display_data",
     "data": {
      "text/html": [
       "<style scoped>\n",
       "  .table-result-container {\n",
       "    max-height: 300px;\n",
       "    overflow: auto;\n",
       "  }\n",
       "  table, th, td {\n",
       "    border: 1px solid black;\n",
       "    border-collapse: collapse;\n",
       "  }\n",
       "  th, td {\n",
       "    padding: 5px;\n",
       "  }\n",
       "  th {\n",
       "    text-align: left;\n",
       "  }\n",
       "</style><div class='table-result-container'><table class='table-result'><thead style='background-color: white'><tr><th>Company_Name</th><th>Service_Count</th><th>Rank</th></tr></thead><tbody><tr><td>FAREX TRADING Co. Ltd.</td><td>24</td><td>1</td></tr><tr><td>Robel alemu</td><td>20</td><td>2</td></tr><tr><td>Gashaw Bishaw Negash</td><td>17</td><td>3</td></tr><tr><td>Hoshi Alliance Trading PLC</td><td>15</td><td>4</td></tr><tr><td>Akber Industtry PLC</td><td>15</td><td>4</td></tr></tbody></table></div>"
      ]
     },
     "metadata": {
      "application/vnd.databricks.v1+output": {
       "addedWidgets": {},
       "aggData": [],
       "aggError": "",
       "aggOverflow": false,
       "aggSchema": [],
       "aggSeriesLimitReached": false,
       "aggType": "",
       "arguments": {},
       "columnCustomDisplayInfos": {},
       "data": [
        [
         "FAREX TRADING Co. Ltd.",
         24,
         1
        ],
        [
         "Robel alemu",
         20,
         2
        ],
        [
         "Gashaw Bishaw Negash",
         17,
         3
        ],
        [
         "Hoshi Alliance Trading PLC",
         15,
         4
        ],
        [
         "Akber Industtry PLC",
         15,
         4
        ]
       ],
       "datasetInfos": [],
       "dbfsResultPath": null,
       "isJsonSchema": true,
       "metadata": {},
       "overflow": false,
       "plotOptions": {
        "customPlotOptions": {},
        "displayType": "table",
        "pivotAggregation": null,
        "pivotColumns": null,
        "xColumns": null,
        "yColumns": null
       },
       "removedWidgets": [],
       "schema": [
        {
         "metadata": "{}",
         "name": "Company_Name",
         "type": "\"string\""
        },
        {
         "metadata": "{}",
         "name": "Service_Count",
         "type": "\"long\""
        },
        {
         "metadata": "{}",
         "name": "Rank",
         "type": "\"integer\""
        }
       ],
       "type": "table"
      }
     },
     "output_type": "display_data"
    }
   ],
   "source": [
    "window_spec = Window.orderBy(desc('Service_Count'))\n",
    "\n",
    "ranked_supplier = supplier_df.groupBy(col('Company_Name')) \\\n",
    "                            .agg(count_distinct(col('Business_Type')).alias('Service_Count')) \\\n",
    "                            .withColumn('Rank', dense_rank().over(window_spec))\n",
    "\n",
    "display(ranked_supplier.limit(5))"
   ]
  },
  {
   "cell_type": "markdown",
   "metadata": {
    "application/vnd.databricks.v1+cell": {
     "cellMetadata": {},
     "inputWidgets": {},
     "nuid": "0c05e522-0d22-43a8-8bed-fab35a63fb54",
     "showTitle": false,
     "title": ""
    }
   },
   "source": [
    "#### Write ranked supplier data to gold container in delta format"
   ]
  },
  {
   "cell_type": "code",
   "execution_count": 0,
   "metadata": {
    "application/vnd.databricks.v1+cell": {
     "cellMetadata": {},
     "inputWidgets": {},
     "nuid": "e4cf6f1d-777f-4521-879a-8608df0b5f6d",
     "showTitle": false,
     "title": ""
    }
   },
   "outputs": [],
   "source": [
    "ranked_supplier.write.mode('overwrite').format('delta').save(f'{gold_folder_path}/supplier_ranked_view')"
   ]
  },
  {
   "cell_type": "markdown",
   "metadata": {
    "application/vnd.databricks.v1+cell": {
     "cellMetadata": {
      "byteLimit": 2048000,
      "rowLimit": 10000
     },
     "inputWidgets": {},
     "nuid": "ba637a22-3c86-4793-9697-737292c6995e",
     "showTitle": false,
     "title": ""
    }
   },
   "source": [
    "#### Recommend supplier based on their supplying data"
   ]
  },
  {
   "cell_type": "code",
   "execution_count": 0,
   "metadata": {
    "application/vnd.databricks.v1+cell": {
     "cellMetadata": {
      "byteLimit": 2048000,
      "rowLimit": 10000
     },
     "inputWidgets": {},
     "nuid": "d34dfe4f-6995-4804-a917-6e0f0ce0f279",
     "showTitle": false,
     "title": ""
    }
   },
   "outputs": [],
   "source": [
    "# Define a list of columns to handle non-numeric values and cast to double\n",
    "numeric_columns = [\"Number_of_products_sold\", \"Revenue_generated\", \"Stock_levels\", \"Lead_times\",\n",
    "                   \"Order_quantities\", \"Shipping_times\", \"Shipping_costs\", \"Total_Cost\"]\n",
    "\n",
    "for column in numeric_columns:\n",
    "    purchaseorder_df = purchaseorder_df.withColumn(column, col(column).cast('double'))\n",
    "\n",
    "\n",
    "# Aggregate the purchaseorder data based on on each unique supplier\n",
    "purchaseorder_agg_df = purchaseorder_df.groupBy('Supplier_Id').agg(\n",
    "    count_distinct('PO_ID').alias('Distinct_PurchaseOrder_Count'),\n",
    "    sum('Number_of_products_sold').alias('Total_Products_Sold'),\n",
    "    sum('Revenue_generated').alias('Total_Revenue'),\n",
    "    avg('Stock_levels').alias('Avg_Stock_levels'),\n",
    "    avg('Lead_times').alias('Avg_Lead_Times'),\n",
    "    sum('Order_quantities').alias('Total_Order_Quantities'),\n",
    "    avg('Shipping_times').alias('Avg_Shipping_Times'),\n",
    "    count_distinct('Shipping_carriers').alias('Distinct_Shipping_Carriers'),\n",
    "    avg('Shipping_costs').alias('Avg_Shipping_Costs'),\n",
    "    sum('Total_Cost').alias('Total_Cost')\n",
    ")\n",
    "\n",
    "\n",
    "# Join this agg data with supplier data\n",
    "joined_df = purchaseorder_agg_df.join(supplier_df, col('S_ID') == col('Supplier_Id'))\n",
    "\n",
    "# Sum-up all the aggregated data; that denotes the recommendation_score! Higher the score, higher the recommendation\n",
    "recomd_supply_df = joined_df.withColumn('Recommendation_Score',        \n",
    "            coalesce(col(\"Total_Products_Sold\").cast(\"double\"), lit(0)) +\n",
    "            coalesce(col(\"Total_Revenue\").cast(\"double\"), lit(0)) +\n",
    "            coalesce(col(\"Avg_Stock_Levels\").cast(\"double\"), lit(0)) + \n",
    "            coalesce(col(\"Avg_Lead_Times\").cast(\"double\"), lit(0)) +\n",
    "            coalesce(col(\"Total_Order_Quantities\").cast(\"double\"), lit(0)) + \n",
    "            coalesce(col(\"Avg_Shipping_Times\").cast(\"double\"), lit(0)) +\n",
    "            coalesce(col(\"Distinct_Shipping_Carriers\").cast(\"double\"), lit(0)) + \n",
    "            coalesce(col(\"Avg_Shipping_Costs\").cast(\"double\"), lit(0)) + \n",
    "            coalesce(col(\"Total_Cost\").cast(\"double\"), lit(0)) +\n",
    "            coalesce(col(\"Negotiation_Score\").cast(\"double\"), lit(0)) +\n",
    "            coalesce(col(\"Defect_Quality\").cast(\"double\"), lit(0))\n",
    "        )\n",
    "\n",
    "# Rank recommendation score\n",
    "window_spec = Window.orderBy(desc('Recommendation_Score'))\n",
    "final_df = recomd_supply_df.withColumn('Rank', dense_rank().over(window_spec))"
   ]
  },
  {
   "cell_type": "code",
   "execution_count": 0,
   "metadata": {
    "application/vnd.databricks.v1+cell": {
     "cellMetadata": {
      "byteLimit": 2048000,
      "rowLimit": 10000
     },
     "inputWidgets": {},
     "nuid": "bae14db7-dc64-4d51-8dcf-085f5a761cfa",
     "showTitle": false,
     "title": ""
    }
   },
   "outputs": [
    {
     "output_type": "display_data",
     "data": {
      "text/html": [
       "<style scoped>\n",
       "  .table-result-container {\n",
       "    max-height: 300px;\n",
       "    overflow: auto;\n",
       "  }\n",
       "  table, th, td {\n",
       "    border: 1px solid black;\n",
       "    border-collapse: collapse;\n",
       "  }\n",
       "  th, td {\n",
       "    padding: 5px;\n",
       "  }\n",
       "  th {\n",
       "    text-align: left;\n",
       "  }\n",
       "</style><div class='table-result-container'><table class='table-result'><thead style='background-color: white'><tr><th>Supplier_Id</th><th>Distinct_PurchaseOrder_Count</th><th>Total_Products_Sold</th><th>Total_Revenue</th><th>Avg_Stock_levels</th><th>Avg_Lead_Times</th><th>Total_Order_Quantities</th><th>Avg_Shipping_Times</th><th>Distinct_Shipping_Carriers</th><th>Avg_Shipping_Costs</th><th>Total_Cost</th></tr></thead><tbody><tr><td>26504.0</td><td>1</td><td>672.0</td><td>7386.363944</td><td>15.0</td><td>14.0</td><td>26.0</td><td>9.0</td><td>1</td><td>8.63033887</td><td>20250.4702764</td></tr><tr><td>31074.0</td><td>1</td><td>913.0</td><td>8525.95256</td><td>53.0</td><td>1.0</td><td>27.0</td><td>7.0</td><td>1</td><td>1.409801095</td><td>23819.3693145</td></tr><tr><td>33277.0</td><td>1</td><td>627.0</td><td>9185.185829</td><td>55.0</td><td>8.0</td><td>59.0</td><td>6.0</td><td>1</td><td>1.311023756</td><td>12433.837531</td></tr><tr><td>247.0</td><td>1</td><td>62.0</td><td>4370.91658</td><td>46.0</td><td>19.0</td><td>4.0</td><td>9.0</td><td>1</td><td>7.904845611</td><td>2160.5296916</td></tr><tr><td>5530.0</td><td>1</td><td>324.0</td><td>7698.424766</td><td>67.0</td><td>2.0</td><td>32.0</td><td>3.0</td><td>1</td><td>5.352878044</td><td>6039.7485152</td></tr></tbody></table></div>"
      ]
     },
     "metadata": {
      "application/vnd.databricks.v1+output": {
       "addedWidgets": {},
       "aggData": [],
       "aggError": "",
       "aggOverflow": false,
       "aggSchema": [],
       "aggSeriesLimitReached": false,
       "aggType": "",
       "arguments": {},
       "columnCustomDisplayInfos": {},
       "data": [
        [
         26504.0,
         1,
         672.0,
         7386.363944,
         15.0,
         14.0,
         26.0,
         9.0,
         1,
         8.63033887,
         20250.4702764
        ],
        [
         31074.0,
         1,
         913.0,
         8525.95256,
         53.0,
         1.0,
         27.0,
         7.0,
         1,
         1.409801095,
         23819.3693145
        ],
        [
         33277.0,
         1,
         627.0,
         9185.185829,
         55.0,
         8.0,
         59.0,
         6.0,
         1,
         1.311023756,
         12433.837531
        ],
        [
         247.0,
         1,
         62.0,
         4370.91658,
         46.0,
         19.0,
         4.0,
         9.0,
         1,
         7.904845611,
         2160.5296916
        ],
        [
         5530.0,
         1,
         324.0,
         7698.424766,
         67.0,
         2.0,
         32.0,
         3.0,
         1,
         5.352878044,
         6039.7485152
        ]
       ],
       "datasetInfos": [],
       "dbfsResultPath": null,
       "isJsonSchema": true,
       "metadata": {},
       "overflow": false,
       "plotOptions": {
        "customPlotOptions": {},
        "displayType": "table",
        "pivotAggregation": null,
        "pivotColumns": null,
        "xColumns": null,
        "yColumns": null
       },
       "removedWidgets": [],
       "schema": [
        {
         "metadata": "{}",
         "name": "Supplier_Id",
         "type": "\"double\""
        },
        {
         "metadata": "{}",
         "name": "Distinct_PurchaseOrder_Count",
         "type": "\"long\""
        },
        {
         "metadata": "{}",
         "name": "Total_Products_Sold",
         "type": "\"double\""
        },
        {
         "metadata": "{}",
         "name": "Total_Revenue",
         "type": "\"double\""
        },
        {
         "metadata": "{}",
         "name": "Avg_Stock_levels",
         "type": "\"double\""
        },
        {
         "metadata": "{}",
         "name": "Avg_Lead_Times",
         "type": "\"double\""
        },
        {
         "metadata": "{}",
         "name": "Total_Order_Quantities",
         "type": "\"double\""
        },
        {
         "metadata": "{}",
         "name": "Avg_Shipping_Times",
         "type": "\"double\""
        },
        {
         "metadata": "{}",
         "name": "Distinct_Shipping_Carriers",
         "type": "\"long\""
        },
        {
         "metadata": "{}",
         "name": "Avg_Shipping_Costs",
         "type": "\"double\""
        },
        {
         "metadata": "{}",
         "name": "Total_Cost",
         "type": "\"double\""
        }
       ],
       "type": "table"
      }
     },
     "output_type": "display_data"
    }
   ],
   "source": [
    "display(purchaseorder_agg_df)"
   ]
  },
  {
   "cell_type": "code",
   "execution_count": 0,
   "metadata": {
    "application/vnd.databricks.v1+cell": {
     "cellMetadata": {
      "byteLimit": 2048000,
      "rowLimit": 10000
     },
     "inputWidgets": {},
     "nuid": "49fba985-04ce-4c80-b636-3971015685aa",
     "showTitle": false,
     "title": ""
    }
   },
   "outputs": [
    {
     "output_type": "display_data",
     "data": {
      "text/html": [
       "<style scoped>\n",
       "  .table-result-container {\n",
       "    max-height: 300px;\n",
       "    overflow: auto;\n",
       "  }\n",
       "  table, th, td {\n",
       "    border: 1px solid black;\n",
       "    border-collapse: collapse;\n",
       "  }\n",
       "  th, td {\n",
       "    padding: 5px;\n",
       "  }\n",
       "  th {\n",
       "    text-align: left;\n",
       "  }\n",
       "</style><div class='table-result-container'><table class='table-result'><thead style='background-color: white'><tr><th>Supplier_Id</th><th>Distinct_PurchaseOrder_Count</th><th>Total_Products_Sold</th><th>Total_Revenue</th><th>Avg_Stock_levels</th><th>Avg_Lead_Times</th><th>Total_Order_Quantities</th><th>Avg_Shipping_Times</th><th>Distinct_Shipping_Carriers</th><th>Avg_Shipping_Costs</th><th>Total_Cost</th><th>S_ID</th><th>Tin_No</th><th>Company_Name</th><th>Date_of_Reg</th><th>SubCity</th><th>Town</th><th>Telephone</th><th>Fax</th><th>EMail</th><th>Business_License_No</th><th>Business_Type</th><th>Negotiation_Score</th><th>Defect_Quality</th><th>Recommendation_Score</th><th>Rank</th></tr></thead><tbody><tr><td>31074.0</td><td>1</td><td>913.0</td><td>8525.95256</td><td>53.0</td><td>1.0</td><td>27.0</td><td>7.0</td><td>1</td><td>1.409801095</td><td>23819.3693145</td><td>31074.0</td><td>Local-0007556445</td><td>ASHKID TRANSIT & LOGISTICS SERVICE</td><td>01-03-2017</td><td>BOLE</td><td>ADDIS ABEBA</td><td>+251 911 166477</td><td>Unknown</td><td>ashkidtransit@gmail.com</td><td>14/673/123130/2005</td><td>Customs Clearance and Fright Forwards\r</td><td>0.75</td><td>Low</td><td>33349.481675595</td><td>1</td></tr><tr><td>26504.0</td><td>1</td><td>672.0</td><td>7386.363944</td><td>15.0</td><td>14.0</td><td>26.0</td><td>9.0</td><td>1</td><td>8.63033887</td><td>20250.4702764</td><td>26504.0</td><td>Local-0046089252</td><td>Debresalem Consultancy and promotion PL.C</td><td>06-12-2016</td><td>Addis Ababa</td><td>Addis Ababa</td><td>0911-604989</td><td>Unknown</td><td>asanahom@yahoo.com</td><td>BL/AA/14/673/4911173/2007</td><td>Stationary Materials and Sanitary Items\r</td><td>0.75</td><td>Low</td><td>28383.21455927</td><td>2</td></tr><tr><td>33277.0</td><td>1</td><td>627.0</td><td>9185.185829</td><td>55.0</td><td>8.0</td><td>59.0</td><td>6.0</td><td>1</td><td>1.311023756</td><td>12433.837531</td><td>33277.0</td><td>Local-0048045147</td><td>AGATON BUSINESS PLC</td><td>04-02-2016</td><td>KIRKOS</td><td>ADDIS ABABA</td><td>+251 0966215698</td><td>Unknown</td><td>agaton002016@gmail.com</td><td>MT/AA/14/706/535837/2008</td><td>Machinery Equipment and Supplies\r</td><td>0.75</td><td>Low</td><td>22377.084383756</td><td>3</td></tr><tr><td>5530.0</td><td>1</td><td>324.0</td><td>7698.424766</td><td>67.0</td><td>2.0</td><td>32.0</td><td>3.0</td><td>1</td><td>5.352878044</td><td>6039.7485152</td><td>5530.0</td><td>Local-0027232227</td><td>TEMESGEN KASSYE</td><td>06-03-2015</td><td>bole</td><td>addis abeba</td><td>911712683</td><td>Unknown</td><td>yajosey@hotmail.com</td><td>temesgen kasye general con finishing work</td><td>Grade VIII(8)\r</td><td>0.75</td><td>Low</td><td>14173.276159244</td><td>4</td></tr><tr><td>247.0</td><td>1</td><td>62.0</td><td>4370.91658</td><td>46.0</td><td>19.0</td><td>4.0</td><td>9.0</td><td>1</td><td>7.904845611</td><td>2160.5296916</td><td>247.0</td><td>Local-0042413611</td><td>Zewdu Tefaye Woldeyes</td><td>18-10-2019</td><td>ARADA</td><td>ADDIS ABABA</td><td>911650831</td><td>Unknown</td><td>zewzawe@gmail.com</td><td>KK/AA/14/706/772497/2010</td><td>Architecture and Engineering design\r</td><td>0.75</td><td>Low</td><td>6681.101117211001</td><td>5</td></tr></tbody></table></div>"
      ]
     },
     "metadata": {
      "application/vnd.databricks.v1+output": {
       "addedWidgets": {},
       "aggData": [],
       "aggError": "",
       "aggOverflow": false,
       "aggSchema": [],
       "aggSeriesLimitReached": false,
       "aggType": "",
       "arguments": {},
       "columnCustomDisplayInfos": {},
       "data": [
        [
         31074.0,
         1,
         913.0,
         8525.95256,
         53.0,
         1.0,
         27.0,
         7.0,
         1,
         1.409801095,
         23819.3693145,
         31074.0,
         "Local-0007556445",
         "ASHKID TRANSIT & LOGISTICS SERVICE",
         "01-03-2017",
         "BOLE",
         "ADDIS ABEBA",
         "+251 911 166477",
         "Unknown",
         "ashkidtransit@gmail.com",
         "14/673/123130/2005",
         "Customs Clearance and Fright Forwards\r",
         0.75,
         "Low",
         33349.481675595,
         1
        ],
        [
         26504.0,
         1,
         672.0,
         7386.363944,
         15.0,
         14.0,
         26.0,
         9.0,
         1,
         8.63033887,
         20250.4702764,
         26504.0,
         "Local-0046089252",
         "Debresalem Consultancy and promotion PL.C",
         "06-12-2016",
         "Addis Ababa",
         "Addis Ababa",
         "0911-604989",
         "Unknown",
         "asanahom@yahoo.com",
         "BL/AA/14/673/4911173/2007",
         "Stationary Materials and Sanitary Items\r",
         0.75,
         "Low",
         28383.21455927,
         2
        ],
        [
         33277.0,
         1,
         627.0,
         9185.185829,
         55.0,
         8.0,
         59.0,
         6.0,
         1,
         1.311023756,
         12433.837531,
         33277.0,
         "Local-0048045147",
         "AGATON BUSINESS PLC",
         "04-02-2016",
         "KIRKOS",
         "ADDIS ABABA",
         "+251 0966215698",
         "Unknown",
         "agaton002016@gmail.com",
         "MT/AA/14/706/535837/2008",
         "Machinery Equipment and Supplies\r",
         0.75,
         "Low",
         22377.084383756,
         3
        ],
        [
         5530.0,
         1,
         324.0,
         7698.424766,
         67.0,
         2.0,
         32.0,
         3.0,
         1,
         5.352878044,
         6039.7485152,
         5530.0,
         "Local-0027232227",
         "TEMESGEN KASSYE",
         "06-03-2015",
         "bole",
         "addis abeba",
         "911712683",
         "Unknown",
         "yajosey@hotmail.com",
         "temesgen kasye general con finishing work",
         "Grade VIII(8)\r",
         0.75,
         "Low",
         14173.276159244,
         4
        ],
        [
         247.0,
         1,
         62.0,
         4370.91658,
         46.0,
         19.0,
         4.0,
         9.0,
         1,
         7.904845611,
         2160.5296916,
         247.0,
         "Local-0042413611",
         "Zewdu Tefaye Woldeyes",
         "18-10-2019",
         "ARADA",
         "ADDIS ABABA",
         "911650831",
         "Unknown",
         "zewzawe@gmail.com",
         "KK/AA/14/706/772497/2010",
         "Architecture and Engineering design\r",
         0.75,
         "Low",
         6681.101117211001,
         5
        ]
       ],
       "datasetInfos": [],
       "dbfsResultPath": null,
       "isJsonSchema": true,
       "metadata": {},
       "overflow": false,
       "plotOptions": {
        "customPlotOptions": {},
        "displayType": "table",
        "pivotAggregation": null,
        "pivotColumns": null,
        "xColumns": null,
        "yColumns": null
       },
       "removedWidgets": [],
       "schema": [
        {
         "metadata": "{}",
         "name": "Supplier_Id",
         "type": "\"double\""
        },
        {
         "metadata": "{}",
         "name": "Distinct_PurchaseOrder_Count",
         "type": "\"long\""
        },
        {
         "metadata": "{}",
         "name": "Total_Products_Sold",
         "type": "\"double\""
        },
        {
         "metadata": "{}",
         "name": "Total_Revenue",
         "type": "\"double\""
        },
        {
         "metadata": "{}",
         "name": "Avg_Stock_levels",
         "type": "\"double\""
        },
        {
         "metadata": "{}",
         "name": "Avg_Lead_Times",
         "type": "\"double\""
        },
        {
         "metadata": "{}",
         "name": "Total_Order_Quantities",
         "type": "\"double\""
        },
        {
         "metadata": "{}",
         "name": "Avg_Shipping_Times",
         "type": "\"double\""
        },
        {
         "metadata": "{}",
         "name": "Distinct_Shipping_Carriers",
         "type": "\"long\""
        },
        {
         "metadata": "{}",
         "name": "Avg_Shipping_Costs",
         "type": "\"double\""
        },
        {
         "metadata": "{}",
         "name": "Total_Cost",
         "type": "\"double\""
        },
        {
         "metadata": "{}",
         "name": "S_ID",
         "type": "\"double\""
        },
        {
         "metadata": "{}",
         "name": "Tin_No",
         "type": "\"string\""
        },
        {
         "metadata": "{}",
         "name": "Company_Name",
         "type": "\"string\""
        },
        {
         "metadata": "{}",
         "name": "Date_of_Reg",
         "type": "\"string\""
        },
        {
         "metadata": "{}",
         "name": "SubCity",
         "type": "\"string\""
        },
        {
         "metadata": "{}",
         "name": "Town",
         "type": "\"string\""
        },
        {
         "metadata": "{}",
         "name": "Telephone",
         "type": "\"string\""
        },
        {
         "metadata": "{}",
         "name": "Fax",
         "type": "\"string\""
        },
        {
         "metadata": "{}",
         "name": "EMail",
         "type": "\"string\""
        },
        {
         "metadata": "{}",
         "name": "Business_License_No",
         "type": "\"string\""
        },
        {
         "metadata": "{}",
         "name": "Business_Type",
         "type": "\"string\""
        },
        {
         "metadata": "{}",
         "name": "Negotiation_Score",
         "type": "\"double\""
        },
        {
         "metadata": "{}",
         "name": "Defect_Quality",
         "type": "\"string\""
        },
        {
         "metadata": "{}",
         "name": "Recommendation_Score",
         "type": "\"double\""
        },
        {
         "metadata": "{}",
         "name": "Rank",
         "type": "\"integer\""
        }
       ],
       "type": "table"
      }
     },
     "output_type": "display_data"
    }
   ],
   "source": [
    "display(final_df)"
   ]
  },
  {
   "cell_type": "markdown",
   "metadata": {
    "application/vnd.databricks.v1+cell": {
     "cellMetadata": {
      "byteLimit": 2048000,
      "rowLimit": 10000
     },
     "inputWidgets": {},
     "nuid": "0f931450-7672-46c9-b4a9-a5cd70a92c8e",
     "showTitle": false,
     "title": ""
    }
   },
   "source": [
    "#### Write recommended supplier data to gold container in delta format"
   ]
  },
  {
   "cell_type": "code",
   "execution_count": 0,
   "metadata": {
    "application/vnd.databricks.v1+cell": {
     "cellMetadata": {
      "byteLimit": 2048000,
      "rowLimit": 10000
     },
     "inputWidgets": {},
     "nuid": "73f8c58c-8612-4b56-ac6c-7f3ab7bfa80d",
     "showTitle": false,
     "title": ""
    }
   },
   "outputs": [],
   "source": [
    "final_df.write.mode('overwrite').format('delta').save(f'{gold_folder_path}/supplier_recomd_view')"
   ]
  },
  {
   "cell_type": "markdown",
   "metadata": {
    "application/vnd.databricks.v1+cell": {
     "cellMetadata": {},
     "inputWidgets": {},
     "nuid": "a4e37070-8e97-45eb-a149-5dc062285da0",
     "showTitle": false,
     "title": ""
    }
   },
   "source": [
    "#### Cleaning Old data"
   ]
  },
  {
   "cell_type": "code",
   "execution_count": 0,
   "metadata": {
    "application/vnd.databricks.v1+cell": {
     "cellMetadata": {},
     "inputWidgets": {},
     "nuid": "e1669fa9-b902-41b3-b95c-177fa92eabf7",
     "showTitle": false,
     "title": ""
    }
   },
   "outputs": [],
   "source": [
    "from delta.tables import DeltaTable\n",
    "\n",
    "supplier_recomd_dt = DeltaTable.forPath(spark, f'{gold_folder_path}/supplier_recomd_view')\n",
    "supplier_ranked_dt = DeltaTable.forPath(spark, f'{gold_folder_path}/supplier_ranked_view')\n",
    "\n",
    "supplier_recomd_dt.vacuum(retentionHours=24)\n",
    "supplier_ranked_dt.vacuum(retentionHours=24)"
   ]
  }
 ],
 "metadata": {
  "application/vnd.databricks.v1+notebook": {
   "dashboards": [],
   "language": "python",
   "notebookMetadata": {
    "pythonIndentUnit": 4
   },
   "notebookName": "gold_layer_trans",
   "widgets": {}
  }
 },
 "nbformat": 4,
 "nbformat_minor": 0
}
