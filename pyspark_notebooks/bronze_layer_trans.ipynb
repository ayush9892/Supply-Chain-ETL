{
 "cells": [
  {
   "cell_type": "code",
   "execution_count": 0,
   "metadata": {
    "application/vnd.databricks.v1+cell": {
     "cellMetadata": {
      "byteLimit": 2048000,
      "rowLimit": 10000
     },
     "inputWidgets": {},
     "nuid": "0cc8c4cf-993c-407e-b58a-4549fa45620b",
     "showTitle": false,
     "title": ""
    }
   },
   "outputs": [],
   "source": [
    "%run \"./includes/common_functions\""
   ]
  },
  {
   "cell_type": "code",
   "execution_count": 0,
   "metadata": {
    "application/vnd.databricks.v1+cell": {
     "cellMetadata": {
      "byteLimit": 2048000,
      "rowLimit": 10000
     },
     "inputWidgets": {},
     "nuid": "134b6361-708c-46f9-a9b3-4be2bd5a1ae3",
     "showTitle": false,
     "title": ""
    }
   },
   "outputs": [],
   "source": [
    "%run \"./includes/configuration\""
   ]
  },
  {
   "cell_type": "markdown",
   "metadata": {
    "application/vnd.databricks.v1+cell": {
     "cellMetadata": {
      "byteLimit": 2048000,
      "rowLimit": 10000
     },
     "inputWidgets": {},
     "nuid": "2b488b81-0574-4e54-949d-e600ab3c7dee",
     "showTitle": false,
     "title": ""
    }
   },
   "source": [
    "#### Get file name"
   ]
  },
  {
   "cell_type": "code",
   "execution_count": 0,
   "metadata": {
    "application/vnd.databricks.v1+cell": {
     "cellMetadata": {
      "byteLimit": 2048000,
      "rowLimit": 10000
     },
     "inputWidgets": {},
     "nuid": "b224cd99-b4a4-4d14-ae83-7cbb3732e39a",
     "showTitle": false,
     "title": ""
    }
   },
   "outputs": [],
   "source": [
    "source_object_name = dbutils.widgets.get('Source_Object_Name')\n",
    "load_type = dbutils.widgets.get('Load_Type')\n",
    "incre_folder_name = dbutils.widgets.get('Incre_Folder_Name')"
   ]
  },
  {
   "cell_type": "markdown",
   "metadata": {
    "application/vnd.databricks.v1+cell": {
     "cellMetadata": {
      "byteLimit": 2048000,
      "rowLimit": 10000
     },
     "inputWidgets": {},
     "nuid": "1416b9e6-fc9a-4c36-9227-428e918e85bc",
     "showTitle": false,
     "title": ""
    }
   },
   "source": [
    "#### Read source file"
   ]
  },
  {
   "cell_type": "code",
   "execution_count": 0,
   "metadata": {
    "application/vnd.databricks.v1+cell": {
     "cellMetadata": {
      "byteLimit": 2048000,
      "rowLimit": 10000
     },
     "inputWidgets": {},
     "nuid": "244572d4-3605-475e-b0a2-3f8b8644d4c9",
     "showTitle": false,
     "title": ""
    }
   },
   "outputs": [],
   "source": [
    "if load_type == 'full_load':\n",
    "    df = spark.read.parquet(f'{raw_folder_path}/{source_object_name}', header=True, inferSchema=True)\n",
    "elif load_type == 'incremental':\n",
    "    df = spark.read.parquet(f'{raw_folder_path}/{source_object_name}/{incre_folder_name}', header=True, inferSchema=True)"
   ]
  },
  {
   "cell_type": "markdown",
   "metadata": {
    "application/vnd.databricks.v1+cell": {
     "cellMetadata": {
      "byteLimit": 2048000,
      "rowLimit": 10000
     },
     "inputWidgets": {},
     "nuid": "1da0cce3-692e-452e-bfef-673309f9935f",
     "showTitle": false,
     "title": ""
    }
   },
   "source": [
    "#### Check null value"
   ]
  },
  {
   "cell_type": "code",
   "execution_count": 0,
   "metadata": {
    "application/vnd.databricks.v1+cell": {
     "cellMetadata": {
      "byteLimit": 2048000,
      "rowLimit": 10000
     },
     "inputWidgets": {},
     "nuid": "45192a4b-84f0-43f3-a35d-74921f6f3434",
     "showTitle": false,
     "title": ""
    }
   },
   "outputs": [
    {
     "output_type": "display_data",
     "data": {
      "text/html": [
       "<style scoped>\n",
       "  .table-result-container {\n",
       "    max-height: 300px;\n",
       "    overflow: auto;\n",
       "  }\n",
       "  table, th, td {\n",
       "    border: 1px solid black;\n",
       "    border-collapse: collapse;\n",
       "  }\n",
       "  th, td {\n",
       "    padding: 5px;\n",
       "  }\n",
       "  th {\n",
       "    text-align: left;\n",
       "  }\n",
       "</style><div class='table-result-container'><table class='table-result'><thead style='background-color: white'><tr><th>S_ID_null_count</th><th>Tin_No_null_count</th><th>Company_Name_null_count</th><th>Date_of_Reg_null_count</th><th>SubCity_null_count</th><th>Town_null_count</th><th>Telephone_null_count</th><th>Fax_null_count</th><th>EMail_null_count</th><th>Business_License_No_null_count</th><th>Business_Type_null_count</th></tr></thead><tbody><tr><td>0</td><td>0</td><td>0</td><td>0</td><td>955</td><td>2323</td><td>1078</td><td>26287</td><td>0</td><td>1</td><td>0</td></tr></tbody></table></div>"
      ]
     },
     "metadata": {
      "application/vnd.databricks.v1+output": {
       "addedWidgets": {},
       "aggData": [],
       "aggError": "",
       "aggOverflow": false,
       "aggSchema": [],
       "aggSeriesLimitReached": false,
       "aggType": "",
       "arguments": {},
       "columnCustomDisplayInfos": {},
       "data": [
        [
         0,
         0,
         0,
         0,
         955,
         2323,
         1078,
         26287,
         0,
         1,
         0
        ]
       ],
       "datasetInfos": [],
       "dbfsResultPath": null,
       "isJsonSchema": true,
       "metadata": {},
       "overflow": false,
       "plotOptions": {
        "customPlotOptions": {},
        "displayType": "table",
        "pivotAggregation": null,
        "pivotColumns": null,
        "xColumns": null,
        "yColumns": null
       },
       "removedWidgets": [],
       "schema": [
        {
         "metadata": "{}",
         "name": "S_ID_null_count",
         "type": "\"long\""
        },
        {
         "metadata": "{}",
         "name": "Tin_No_null_count",
         "type": "\"long\""
        },
        {
         "metadata": "{}",
         "name": "Company_Name_null_count",
         "type": "\"long\""
        },
        {
         "metadata": "{}",
         "name": "Date_of_Reg_null_count",
         "type": "\"long\""
        },
        {
         "metadata": "{}",
         "name": "SubCity_null_count",
         "type": "\"long\""
        },
        {
         "metadata": "{}",
         "name": "Town_null_count",
         "type": "\"long\""
        },
        {
         "metadata": "{}",
         "name": "Telephone_null_count",
         "type": "\"long\""
        },
        {
         "metadata": "{}",
         "name": "Fax_null_count",
         "type": "\"long\""
        },
        {
         "metadata": "{}",
         "name": "EMail_null_count",
         "type": "\"long\""
        },
        {
         "metadata": "{}",
         "name": "Business_License_No_null_count",
         "type": "\"long\""
        },
        {
         "metadata": "{}",
         "name": "Business_Type_null_count",
         "type": "\"long\""
        }
       ],
       "type": "table"
      }
     },
     "output_type": "display_data"
    }
   ],
   "source": [
    "count_null(df)"
   ]
  },
  {
   "cell_type": "markdown",
   "metadata": {
    "application/vnd.databricks.v1+cell": {
     "cellMetadata": {
      "byteLimit": 2048000,
      "rowLimit": 10000
     },
     "inputWidgets": {},
     "nuid": "2a0aac8d-77fe-46df-9121-77bd8453e5eb",
     "showTitle": false,
     "title": ""
    }
   },
   "source": [
    "#### Validate data type and Handling null values"
   ]
  },
  {
   "cell_type": "code",
   "execution_count": 0,
   "metadata": {
    "application/vnd.databricks.v1+cell": {
     "cellMetadata": {
      "byteLimit": 2048000,
      "rowLimit": 10000
     },
     "inputWidgets": {},
     "nuid": "b40c2520-b381-47a7-a281-6c2997145d29",
     "showTitle": false,
     "title": ""
    }
   },
   "outputs": [
    {
     "output_type": "stream",
     "name": "stdout",
     "output_type": "stream",
     "text": [
      "S_ID: Double type validation applied.\nTin_No: String type validation applied.\nCompany_Name: String type validation applied.\nDate_of_Reg: String type validation applied.\nSubCity: String type validation applied.\nTown: String type validation applied.\nTelephone: String type validation applied.\nFax: String type validation applied.\nEMail: String type validation applied.\nBusiness_License_No: String type validation applied.\nBusiness_Type: String type validation applied.\n"
     ]
    }
   ],
   "source": [
    "for field in df.schema.fields:\n",
    "        column_name = field.name\n",
    "        column_type = str(field.dataType)\n",
    "\n",
    "        # Check for integer type\n",
    "        if \"int\" in column_type.lower():\n",
    "            df = df.withColumn(column_name, when(col(column_name).isNotNull(), col(column_name).cast('int')))\n",
    "            print(f\"{column_name}: Integer type validation applied.\")\n",
    "\n",
    "            df = df.na.fill({column_name: 0})\n",
    "\n",
    "        # Check for float type\n",
    "        elif \"float\" in column_type.lower():\n",
    "            df = df.withColumn(column_name, when(col(column_name).isNotNull(), col(column_name).cast('float')))\n",
    "            print(f\"{column_name}: Float type validation applied.\")\n",
    "\n",
    "            df = df.na.fill({column_name: 0})\n",
    "        \n",
    "        # Check for double type\n",
    "        elif \"double\" in column_type.lower():\n",
    "            df = df.withColumn(column_name, when(col(column_name).isNotNull(), col(column_name).cast('double')))\n",
    "            print(f\"{column_name}: Double type validation applied.\")\n",
    "\n",
    "            df = df.na.fill({column_name: 0})\n",
    "\n",
    "        # Check for string type\n",
    "        elif \"string\" in column_type.lower():\n",
    "            df = df.withColumn(column_name, when(col(column_name).isNotNull(), col(column_name).cast('string')))\n",
    "            print(f\"{column_name}: String type validation applied.\")\n",
    "\n",
    "            df = df.na.fill({column_name: \"Unknown\"})\n",
    "\n",
    "        # Check for boolean type\n",
    "        elif \"boolean\" in column_type.lower():\n",
    "            df = df.withColumn(column_name, when(col(column_name).isNotNull(), col(column_name).cast('boolean')))\n",
    "            print(f\"{column_name}: Boolean type validation applied.\")\n",
    "\n",
    "        # Check for date type\n",
    "        elif \"date\" in column_type.lower():\n",
    "            df = df.withColumn(column_name, when(col(column_name).isNotNull(), col(column_name).cast('date')))\n",
    "            print(f\"{column_name}: Date type validation applied.\")"
   ]
  },
  {
   "cell_type": "markdown",
   "metadata": {
    "application/vnd.databricks.v1+cell": {
     "cellMetadata": {
      "byteLimit": 2048000,
      "rowLimit": 10000
     },
     "inputWidgets": {},
     "nuid": "a478490d-02f7-47f0-93ef-549a7ed86207",
     "showTitle": false,
     "title": ""
    }
   },
   "source": [
    "#### Again checking null to reverify"
   ]
  },
  {
   "cell_type": "code",
   "execution_count": 0,
   "metadata": {
    "application/vnd.databricks.v1+cell": {
     "cellMetadata": {
      "byteLimit": 2048000,
      "rowLimit": 10000
     },
     "inputWidgets": {},
     "nuid": "f80443b7-ab08-41c8-907b-3f7329e25035",
     "showTitle": false,
     "title": ""
    }
   },
   "outputs": [
    {
     "output_type": "display_data",
     "data": {
      "text/html": [
       "<style scoped>\n",
       "  .table-result-container {\n",
       "    max-height: 300px;\n",
       "    overflow: auto;\n",
       "  }\n",
       "  table, th, td {\n",
       "    border: 1px solid black;\n",
       "    border-collapse: collapse;\n",
       "  }\n",
       "  th, td {\n",
       "    padding: 5px;\n",
       "  }\n",
       "  th {\n",
       "    text-align: left;\n",
       "  }\n",
       "</style><div class='table-result-container'><table class='table-result'><thead style='background-color: white'><tr><th>S_ID_null_count</th><th>Tin_No_null_count</th><th>Company_Name_null_count</th><th>Date_of_Reg_null_count</th><th>SubCity_null_count</th><th>Town_null_count</th><th>Telephone_null_count</th><th>Fax_null_count</th><th>EMail_null_count</th><th>Business_License_No_null_count</th><th>Business_Type_null_count</th></tr></thead><tbody><tr><td>0</td><td>0</td><td>0</td><td>0</td><td>0</td><td>0</td><td>0</td><td>0</td><td>0</td><td>0</td><td>0</td></tr></tbody></table></div>"
      ]
     },
     "metadata": {
      "application/vnd.databricks.v1+output": {
       "addedWidgets": {},
       "aggData": [],
       "aggError": "",
       "aggOverflow": false,
       "aggSchema": [],
       "aggSeriesLimitReached": false,
       "aggType": "",
       "arguments": {},
       "columnCustomDisplayInfos": {},
       "data": [
        [
         0,
         0,
         0,
         0,
         0,
         0,
         0,
         0,
         0,
         0,
         0
        ]
       ],
       "datasetInfos": [],
       "dbfsResultPath": null,
       "isJsonSchema": true,
       "metadata": {},
       "overflow": false,
       "plotOptions": {
        "customPlotOptions": {},
        "displayType": "table",
        "pivotAggregation": null,
        "pivotColumns": null,
        "xColumns": null,
        "yColumns": null
       },
       "removedWidgets": [],
       "schema": [
        {
         "metadata": "{}",
         "name": "S_ID_null_count",
         "type": "\"long\""
        },
        {
         "metadata": "{}",
         "name": "Tin_No_null_count",
         "type": "\"long\""
        },
        {
         "metadata": "{}",
         "name": "Company_Name_null_count",
         "type": "\"long\""
        },
        {
         "metadata": "{}",
         "name": "Date_of_Reg_null_count",
         "type": "\"long\""
        },
        {
         "metadata": "{}",
         "name": "SubCity_null_count",
         "type": "\"long\""
        },
        {
         "metadata": "{}",
         "name": "Town_null_count",
         "type": "\"long\""
        },
        {
         "metadata": "{}",
         "name": "Telephone_null_count",
         "type": "\"long\""
        },
        {
         "metadata": "{}",
         "name": "Fax_null_count",
         "type": "\"long\""
        },
        {
         "metadata": "{}",
         "name": "EMail_null_count",
         "type": "\"long\""
        },
        {
         "metadata": "{}",
         "name": "Business_License_No_null_count",
         "type": "\"long\""
        },
        {
         "metadata": "{}",
         "name": "Business_Type_null_count",
         "type": "\"long\""
        }
       ],
       "type": "table"
      }
     },
     "output_type": "display_data"
    }
   ],
   "source": [
    "count_null(df)"
   ]
  },
  {
   "cell_type": "markdown",
   "metadata": {
    "application/vnd.databricks.v1+cell": {
     "cellMetadata": {
      "byteLimit": 2048000,
      "rowLimit": 10000
     },
     "inputWidgets": {},
     "nuid": "0bd1cb5b-6a14-4ba2-9f96-e8330201dfa5",
     "showTitle": false,
     "title": ""
    }
   },
   "source": [
    "#### Check Duplicates data"
   ]
  },
  {
   "cell_type": "code",
   "execution_count": 0,
   "metadata": {
    "application/vnd.databricks.v1+cell": {
     "cellMetadata": {
      "byteLimit": 2048000,
      "rowLimit": 10000
     },
     "inputWidgets": {},
     "nuid": "494ec968-33a5-47e1-9b44-c64e19850bd7",
     "showTitle": false,
     "title": ""
    }
   },
   "outputs": [
    {
     "output_type": "stream",
     "name": "stdout",
     "output_type": "stream",
     "text": [
      "No Duplicates found!\n"
     ]
    }
   ],
   "source": [
    "primary_key_columns = [\"S_ID\", \"PO_ID\", \"TRANSPORTATION_ID\", \"P_ID\"]\n",
    "for column in primary_key_columns:\n",
    "    if column in df.columns:\n",
    "        duplicate_count = df.groupBy(column).count().where(col('count')>1).count()\n",
    "        if duplicate_count > 0:\n",
    "            df = df.dropDuplicates([column])\n",
    "            print(\"Duplicates dropped!\")\n",
    "        else:\n",
    "            print(\"No Duplicates found!\")"
   ]
  },
  {
   "cell_type": "markdown",
   "metadata": {
    "application/vnd.databricks.v1+cell": {
     "cellMetadata": {
      "byteLimit": 2048000,
      "rowLimit": 10000
     },
     "inputWidgets": {},
     "nuid": "b7af7805-5eb7-44c3-8e0f-fd628607386d",
     "showTitle": false,
     "title": ""
    }
   },
   "source": [
    "#### Write transformed data to bronze container in delta format"
   ]
  },
  {
   "cell_type": "code",
   "execution_count": 0,
   "metadata": {
    "application/vnd.databricks.v1+cell": {
     "cellMetadata": {
      "byteLimit": 2048000,
      "rowLimit": 10000
     },
     "inputWidgets": {},
     "nuid": "8fdee59d-2a9f-41b7-a26e-c323eef7c103",
     "showTitle": false,
     "title": ""
    }
   },
   "outputs": [],
   "source": [
    "if(load_type == 'full_load'):\n",
    "    df.write.mode('overwrite').format('delta').save(f'{bronze_folder_path}/{source_object_name}')\n",
    "    # Creating a Delta Table instance\n",
    "    from delta.tables import DeltaTable\n",
    "    dt = DeltaTable.forPath(spark, f'{bronze_folder_path}/{source_object_name}')\n",
    "    # Removing old history\n",
    "    spark.conf.set('spark.databricks.delta.retentionDurationCheck.enabled', 'false')\n",
    "    dt.vacuum(retentionHours=24)\n",
    "    \n",
    "elif(load_type == 'incremental'):\n",
    "    df.write.mode('append').format('delta').save(f'{bronze_folder_path}/{source_object_name}/{incre_folder_name}')"
   ]
  }
 ],
 "metadata": {
  "application/vnd.databricks.v1+notebook": {
   "dashboards": [],
   "language": "python",
   "notebookMetadata": {
    "pythonIndentUnit": 4
   },
   "notebookName": "bronze_layer_trans",
   "widgets": {
    "Incre_Folder_Name": {
     "currentValue": "",
     "nuid": "53b71f20-cd8f-4841-9908-9dd59b9ec035",
     "widgetInfo": {
      "widgetType": "text",
      "defaultValue": "",
      "label": null,
      "name": "Incre_Folder_Name",
      "options": {
       "widgetType": "text",
       "autoCreated": null,
       "validationRegex": null
      }
     }
    },
    "Load_Type": {
     "currentValue": "full_load",
     "nuid": "9bdf90b0-c967-4b20-ac65-8b8a5fda7988",
     "widgetInfo": {
      "widgetType": "text",
      "defaultValue": "",
      "label": null,
      "name": "Load_Type",
      "options": {
       "widgetType": "text",
       "autoCreated": null,
       "validationRegex": null
      }
     }
    },
    "Source_Object_Name": {
     "currentValue": "supplier",
     "nuid": "e5371178-8340-42f6-8793-86b76c13ace0",
     "widgetInfo": {
      "widgetType": "text",
      "defaultValue": "",
      "label": null,
      "name": "Source_Object_Name",
      "options": {
       "widgetType": "text",
       "autoCreated": null,
       "validationRegex": null
      }
     }
    }
   }
  }
 },
 "nbformat": 4,
 "nbformat_minor": 0
}
